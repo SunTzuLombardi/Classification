{
 "cells": [
  {
   "cell_type": "code",
   "execution_count": null,
   "metadata": {},
   "outputs": [],
   "source": []
  },
  {
   "cell_type": "markdown",
   "metadata": {},
   "source": [
    "## Import Needed Classes"
   ]
  },
  {
   "cell_type": "code",
   "execution_count": 1,
   "metadata": {
    "ExecuteTime": {
     "end_time": "2021-07-01T18:37:19.097507Z",
     "start_time": "2021-07-01T18:37:15.661676Z"
    }
   },
   "outputs": [],
   "source": [
    "import statsmodels.api as sm\n",
    "import sklearn.preprocessing as preprocessing\n",
    "from scipy import stats\n",
    "from sklearn.model_selection import train_test_split, GridSearchCV\n",
    "\n",
    "from sklearn.tree import DecisionTreeClassifier\n",
    "from sklearn.ensemble import RandomForestClassifier\n",
    "from xgboost import XGBClassifier\n",
    "\n",
    "from sklearn.metrics import accuracy_score, roc_curve, auc, roc_auc_score\n",
    "from sklearn.metrics import precision_recall_fscore_support\n",
    "from sklearn.metrics import classification_report\n",
    "from sklearn.metrics import plot_confusion_matrix\n",
    "from sklearn.model_selection import KFold\n",
    "from sklearn.model_selection import cross_val_score\n",
    "from sklearn.svm import SVC"
   ]
  },
  {
   "cell_type": "code",
   "execution_count": 2,
   "metadata": {
    "ExecuteTime": {
     "end_time": "2021-07-01T18:37:19.798597Z",
     "start_time": "2021-07-01T18:37:19.100498Z"
    }
   },
   "outputs": [],
   "source": [
    "import seaborn as sns\n",
    "import matplotlib.pyplot as plt\n",
    "import matplotlib.ticker as mticker\n",
    "%matplotlib inline"
   ]
  },
  {
   "cell_type": "code",
   "execution_count": 3,
   "metadata": {
    "ExecuteTime": {
     "end_time": "2021-07-01T18:37:19.813561Z",
     "start_time": "2021-07-01T18:37:19.801591Z"
    }
   },
   "outputs": [],
   "source": [
    "def acc_report(y_test, y_pred):\n",
    "    # Calculate accuracy \n",
    "    acc = accuracy_score(y_test,y_pred2) * 100\n",
    "    print('Accuracy is :{0}'.format(acc))\n",
    "\n",
    "    # Check the AUC for predictions\n",
    "    false_positive_rate, true_positive_rate, thresholds = roc_curve(y_test, y_pred2)\n",
    "    roc_auc = auc(false_positive_rate, true_positive_rate)\n",
    "    print('\\nAUC is :{0}'.format(round(roc_auc, 2)))\n",
    "\n",
    "    # Create and print a confusion matrix \n",
    "    print('\\nConfusion Matrix')\n",
    "    print('----------------')\n",
    "    print(pd.crosstab(y_test, y_pred2, rownames=['True'], colnames=['Predicted'], margins=True))"
   ]
  },
  {
   "cell_type": "markdown",
   "metadata": {},
   "source": [
    "## Load Data for Modeling"
   ]
  },
  {
   "cell_type": "code",
   "execution_count": 4,
   "metadata": {
    "ExecuteTime": {
     "end_time": "2021-07-01T18:37:35.894815Z",
     "start_time": "2021-07-01T18:37:19.819547Z"
    }
   },
   "outputs": [],
   "source": [
    "#### Load Data for Modeling\n",
    "import pandas as pd\n",
    "\n",
    "data = pd.read_csv('./data/2018_model_data.csv')"
   ]
  },
  {
   "cell_type": "code",
   "execution_count": 5,
   "metadata": {
    "ExecuteTime": {
     "end_time": "2021-07-01T18:37:36.792629Z",
     "start_time": "2021-07-01T18:37:35.896812Z"
    }
   },
   "outputs": [],
   "source": [
    "data.drop(columns=['Unnamed: 0'],inplace=True)"
   ]
  },
  {
   "cell_type": "markdown",
   "metadata": {},
   "source": [
    "## Create features, labels, training, and test data\n",
    "# Build Baseline Model Decision Tree Balanced\n"
   ]
  },
  {
   "cell_type": "code",
   "execution_count": 6,
   "metadata": {
    "ExecuteTime": {
     "end_time": "2021-07-01T18:37:36.808548Z",
     "start_time": "2021-07-01T18:37:36.795583Z"
    }
   },
   "outputs": [],
   "source": [
    "#### Create features, labels, training, and test data"
   ]
  },
  {
   "cell_type": "code",
   "execution_count": 7,
   "metadata": {
    "ExecuteTime": {
     "end_time": "2021-07-01T18:37:40.800505Z",
     "start_time": "2021-07-01T18:37:36.813559Z"
    }
   },
   "outputs": [],
   "source": [
    "# Split the dataset in the ratio train 80% and test 20%\n",
    "X = data.drop(\"DELAYED\", axis = 1)\n",
    "y = data['DELAYED']\n",
    "X_train, X_test, y_train, y_test = train_test_split(X, y, test_size=0.20, random_state=42)"
   ]
  },
  {
   "cell_type": "markdown",
   "metadata": {},
   "source": [
    "## Train the classifier and make predictions"
   ]
  },
  {
   "cell_type": "code",
   "execution_count": 8,
   "metadata": {
    "ExecuteTime": {
     "end_time": "2021-07-01T18:37:40.877548Z",
     "start_time": "2021-07-01T18:37:40.803724Z"
    }
   },
   "outputs": [
    {
     "name": "stdout",
     "output_type": "stream",
     "text": [
      "skipping\n"
     ]
    }
   ],
   "source": [
    "%%script echo skipping\n",
    "# Build a regular tree as baseline\n",
    "svc_clf1 = SVC(kernel='linear')\n",
    "svc_clf1.fit(X_train, y_train)"
   ]
  },
  {
   "cell_type": "code",
   "execution_count": 9,
   "metadata": {
    "ExecuteTime": {
     "end_time": "2021-07-01T18:37:41.892652Z",
     "start_time": "2021-07-01T18:37:40.880504Z"
    }
   },
   "outputs": [
    {
     "ename": "NameError",
     "evalue": "name 'svc_clf1' is not defined",
     "output_type": "error",
     "traceback": [
      "\u001b[1;31m---------------------------------------------------------------------------\u001b[0m",
      "\u001b[1;31mNameError\u001b[0m                                 Traceback (most recent call last)",
      "\u001b[1;32m<ipython-input-9-8487744847ed>\u001b[0m in \u001b[0;36m<module>\u001b[1;34m\u001b[0m\n\u001b[0;32m      1\u001b[0m \u001b[1;31m# Make predictions for test data\u001b[0m\u001b[1;33m\u001b[0m\u001b[1;33m\u001b[0m\u001b[1;33m\u001b[0m\u001b[0m\n\u001b[1;32m----> 2\u001b[1;33m \u001b[0my_pred1\u001b[0m \u001b[1;33m=\u001b[0m \u001b[0msvc_clf1\u001b[0m\u001b[1;33m.\u001b[0m\u001b[0mpredict\u001b[0m\u001b[1;33m(\u001b[0m\u001b[0mX_test\u001b[0m\u001b[1;33m)\u001b[0m\u001b[1;33m\u001b[0m\u001b[1;33m\u001b[0m\u001b[0m\n\u001b[0m",
      "\u001b[1;31mNameError\u001b[0m: name 'svc_clf1' is not defined"
     ]
    }
   ],
   "source": [
    "# Make predictions for test data\n",
    "y_pred1 = svc_clf1.predict(X_test)"
   ]
  },
  {
   "cell_type": "markdown",
   "metadata": {},
   "source": [
    "## Check predictive performance"
   ]
  },
  {
   "cell_type": "code",
   "execution_count": null,
   "metadata": {
    "ExecuteTime": {
     "end_time": "2021-07-01T18:37:41.906578Z",
     "start_time": "2021-07-01T18:37:15.677Z"
    }
   },
   "outputs": [],
   "source": [
    "#Check predictive performance\n",
    "print(classification_report(y_test,y_pred1))"
   ]
  },
  {
   "cell_type": "code",
   "execution_count": null,
   "metadata": {
    "ExecuteTime": {
     "end_time": "2021-07-01T18:37:41.908573Z",
     "start_time": "2021-07-01T18:37:15.679Z"
    }
   },
   "outputs": [],
   "source": [
    "# Alternative confusion matrix\n",
    "plot_confusion_matrix(tree_clf1, X_test, y_test, values_format='.3g')\n",
    "plt.show()"
   ]
  },
  {
   "cell_type": "code",
   "execution_count": null,
   "metadata": {
    "ExecuteTime": {
     "end_time": "2021-07-01T18:37:41.910606Z",
     "start_time": "2021-07-01T18:37:15.680Z"
    }
   },
   "outputs": [],
   "source": [
    "#Observation: Accuracy 74%  Precision 84% Recall 84% F1 "
   ]
  },
  {
   "cell_type": "code",
   "execution_count": null,
   "metadata": {
    "ExecuteTime": {
     "end_time": "2021-07-01T01:29:44.144069Z",
     "start_time": "2021-07-01T01:29:44.125118Z"
    }
   },
   "outputs": [],
   "source": []
  },
  {
   "cell_type": "markdown",
   "metadata": {
    "ExecuteTime": {
     "end_time": "2021-07-01T01:30:02.315383Z",
     "start_time": "2021-07-01T01:30:02.306414Z"
    }
   },
   "source": [
    "# Build Model Decision Tree Entropy"
   ]
  },
  {
   "cell_type": "markdown",
   "metadata": {
    "ExecuteTime": {
     "end_time": "2021-07-01T01:31:49.413475Z",
     "start_time": "2021-07-01T01:31:49.408487Z"
    }
   },
   "source": [
    "## Train the classifier and make predictions"
   ]
  },
  {
   "cell_type": "code",
   "execution_count": null,
   "metadata": {
    "ExecuteTime": {
     "end_time": "2021-07-01T18:37:41.913560Z",
     "start_time": "2021-07-01T18:37:15.683Z"
    }
   },
   "outputs": [],
   "source": [
    "# Build a regular tree as baseline\n",
    "svc_clf2 = SVC(kernel='linear')\n",
    "svc_clf2.fit(X_train, y_train)"
   ]
  },
  {
   "cell_type": "code",
   "execution_count": null,
   "metadata": {
    "ExecuteTime": {
     "end_time": "2021-07-01T18:37:41.916560Z",
     "start_time": "2021-07-01T18:37:15.685Z"
    }
   },
   "outputs": [],
   "source": [
    "# Make predictions for test data\n",
    "y_pred2 = svc_clf2.predict(X_test)"
   ]
  },
  {
   "cell_type": "markdown",
   "metadata": {},
   "source": [
    "## Check predictive performance"
   ]
  },
  {
   "cell_type": "code",
   "execution_count": null,
   "metadata": {
    "ExecuteTime": {
     "end_time": "2021-07-01T18:37:41.918548Z",
     "start_time": "2021-07-01T18:37:15.687Z"
    }
   },
   "outputs": [],
   "source": [
    "#Check predictive performance\n",
    "print(classification_report(y_test,y_pred2))"
   ]
  },
  {
   "cell_type": "code",
   "execution_count": null,
   "metadata": {
    "ExecuteTime": {
     "end_time": "2021-07-01T18:37:41.919547Z",
     "start_time": "2021-07-01T18:37:15.690Z"
    }
   },
   "outputs": [],
   "source": [
    "acc_report(y_test, y_pred1)"
   ]
  },
  {
   "cell_type": "code",
   "execution_count": null,
   "metadata": {
    "ExecuteTime": {
     "end_time": "2021-07-01T18:37:41.921538Z",
     "start_time": "2021-07-01T18:37:15.692Z"
    }
   },
   "outputs": [],
   "source": [
    "#Observation: Accuracy 74%  Precision 84% Recall 84% F1 "
   ]
  },
  {
   "cell_type": "code",
   "execution_count": null,
   "metadata": {
    "ExecuteTime": {
     "end_time": "2021-07-01T18:37:41.923533Z",
     "start_time": "2021-07-01T18:37:15.695Z"
    }
   },
   "outputs": [],
   "source": [
    "# Alternative confusion matrix\n",
    "plot_confusion_matrix(tree_clf2, X_test, y_test, values_format='.3g')\n",
    "plt.show()"
   ]
  },
  {
   "cell_type": "code",
   "execution_count": null,
   "metadata": {
    "ExecuteTime": {
     "end_time": "2021-07-01T18:37:41.926525Z",
     "start_time": "2021-07-01T18:37:15.698Z"
    }
   },
   "outputs": [],
   "source": [
    "acc_report(y_test, y_pred2)"
   ]
  },
  {
   "cell_type": "code",
   "execution_count": null,
   "metadata": {
    "ExecuteTime": {
     "end_time": "2021-07-01T18:37:41.929517Z",
     "start_time": "2021-07-01T18:37:15.701Z"
    }
   },
   "outputs": [],
   "source": [
    "#Takes too Much to Run"
   ]
  }
 ],
 "metadata": {
  "kernelspec": {
   "display_name": "learn-env",
   "language": "python",
   "name": "learn-env"
  },
  "language_info": {
   "codemirror_mode": {
    "name": "ipython",
    "version": 3
   },
   "file_extension": ".py",
   "mimetype": "text/x-python",
   "name": "python",
   "nbconvert_exporter": "python",
   "pygments_lexer": "ipython3",
   "version": "3.8.5"
  },
  "toc": {
   "base_numbering": 1,
   "nav_menu": {},
   "number_sections": true,
   "sideBar": true,
   "skip_h1_title": false,
   "title_cell": "Table of Contents",
   "title_sidebar": "Contents",
   "toc_cell": false,
   "toc_position": {},
   "toc_section_display": true,
   "toc_window_display": true
  },
  "varInspector": {
   "cols": {
    "lenName": 16,
    "lenType": 16,
    "lenVar": 40
   },
   "kernels_config": {
    "python": {
     "delete_cmd_postfix": "",
     "delete_cmd_prefix": "del ",
     "library": "var_list.py",
     "varRefreshCmd": "print(var_dic_list())"
    },
    "r": {
     "delete_cmd_postfix": ") ",
     "delete_cmd_prefix": "rm(",
     "library": "var_list.r",
     "varRefreshCmd": "cat(var_dic_list()) "
    }
   },
   "types_to_exclude": [
    "module",
    "function",
    "builtin_function_or_method",
    "instance",
    "_Feature"
   ],
   "window_display": false
  }
 },
 "nbformat": 4,
 "nbformat_minor": 4
}
