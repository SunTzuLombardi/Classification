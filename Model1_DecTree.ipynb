{
 "cells": [
  {
   "cell_type": "code",
   "execution_count": null,
   "metadata": {},
   "outputs": [],
   "source": []
  },
  {
   "cell_type": "markdown",
   "metadata": {},
   "source": [
    "## Import Needed Classes"
   ]
  },
  {
   "cell_type": "code",
   "execution_count": 1,
   "metadata": {
    "ExecuteTime": {
     "end_time": "2021-07-02T07:17:19.006969Z",
     "start_time": "2021-07-02T07:17:15.182203Z"
    }
   },
   "outputs": [],
   "source": [
    "import statsmodels.api as sm\n",
    "import sklearn.preprocessing as preprocessing\n",
    "from scipy import stats\n",
    "from sklearn.model_selection import train_test_split, GridSearchCV\n",
    "\n",
    "from sklearn.tree import DecisionTreeClassifier\n",
    "from sklearn.ensemble import RandomForestClassifier\n",
    "from xgboost import XGBClassifier\n",
    "\n",
    "from sklearn.metrics import accuracy_score, roc_curve, auc, roc_auc_score\n",
    "from sklearn.metrics import precision_recall_fscore_support\n",
    "from sklearn.metrics import classification_report\n",
    "from sklearn.metrics import plot_confusion_matrix\n",
    "from sklearn.model_selection import KFold\n",
    "from sklearn.model_selection import cross_val_score\n",
    "from sklearn.svm import SVC"
   ]
  },
  {
   "cell_type": "code",
   "execution_count": 2,
   "metadata": {
    "ExecuteTime": {
     "end_time": "2021-07-02T07:17:19.497657Z",
     "start_time": "2021-07-02T07:17:19.009962Z"
    }
   },
   "outputs": [],
   "source": [
    "import seaborn as sns\n",
    "import matplotlib.pyplot as plt\n",
    "import matplotlib.ticker as mticker\n",
    "%matplotlib inline"
   ]
  },
  {
   "cell_type": "code",
   "execution_count": 3,
   "metadata": {
    "ExecuteTime": {
     "end_time": "2021-07-02T07:17:19.513614Z",
     "start_time": "2021-07-02T07:17:19.500650Z"
    }
   },
   "outputs": [],
   "source": [
    "def acc_report(y_test, y_pred):\n",
    "    # Calculate accuracy \n",
    "    acc = accuracy_score(y_test,y_pred) * 100\n",
    "    print('Accuracy is :{0}'.format(acc))\n",
    "\n",
    "    # Check the AUC for predictions\n",
    "    false_positive_rate, true_positive_rate, thresholds = roc_curve(y_test, y_pred)\n",
    "    roc_auc = auc(false_positive_rate, true_positive_rate)\n",
    "    print('\\nAUC is :{0}'.format(round(roc_auc, 2)))\n",
    "\n",
    "    # Create and print a confusion matrix \n",
    "    print('\\nConfusion Matrix')\n",
    "    print('----------------')\n",
    "    print(pd.crosstab(y_test, y_pred, rownames=['True'], colnames=['Predicted'], margins=True))"
   ]
  },
  {
   "cell_type": "code",
   "execution_count": 1,
   "metadata": {
    "ExecuteTime": {
     "end_time": "2021-07-07T17:44:08.617809Z",
     "start_time": "2021-07-07T17:44:08.598862Z"
    }
   },
   "outputs": [],
   "source": [
    "def plot_feature_importances(data_train, model):\n",
    "    n_features = data_train.shape[1]\n",
    "    plt.figure(figsize=(8,16))\n",
    "    plt.barh(range(n_features), model.feature_importances_, align='center') \n",
    "    plt.yticks(np.arange(n_features), data_train.columns.values) \n",
    "    plt.xlabel('Feature importance')\n",
    "    plt.ylabel('Feature')"
   ]
  },
  {
   "cell_type": "code",
   "execution_count": 5,
   "metadata": {
    "ExecuteTime": {
     "end_time": "2021-07-02T07:17:19.544532Z",
     "start_time": "2021-07-02T07:17:19.531567Z"
    }
   },
   "outputs": [],
   "source": [
    "def run_dec_tree(Xtrain, ytrain, Xtest, **kwargs):\n",
    "    # Build a regular tree as baseline\n",
    "    tree = DecisionTreeClassifier(**kwargs )\n",
    "    tree.fit(Xtrain, ytrain)\n",
    "    # Make predictions for Train data\n",
    "    ypred_train = tree.predict(Xtrain)\n",
    "    # Make predictions for test data\n",
    "    ypred_test = tree.predict(Xtest)\n",
    "    return tree, ypred_train, ypred_test"
   ]
  },
  {
   "cell_type": "markdown",
   "metadata": {},
   "source": [
    "## Load Data for Modeling"
   ]
  },
  {
   "cell_type": "code",
   "execution_count": 6,
   "metadata": {
    "ExecuteTime": {
     "end_time": "2021-07-02T07:17:31.542435Z",
     "start_time": "2021-07-02T07:17:19.547531Z"
    }
   },
   "outputs": [],
   "source": [
    "#### Load Data for Modeling\n",
    "import pandas as pd\n",
    "\n",
    "data = pd.read_csv('./data/2018_model_data.csv')"
   ]
  },
  {
   "cell_type": "code",
   "execution_count": 7,
   "metadata": {
    "ExecuteTime": {
     "end_time": "2021-07-02T07:17:32.057059Z",
     "start_time": "2021-07-02T07:17:31.544428Z"
    }
   },
   "outputs": [],
   "source": [
    "data.drop(columns=['Unnamed: 0'],inplace=True)"
   ]
  },
  {
   "cell_type": "markdown",
   "metadata": {},
   "source": [
    "## Create features, labels, training, and test data\n",
    "# Build Baseline Model Decision Tree Balanced\n"
   ]
  },
  {
   "cell_type": "code",
   "execution_count": 8,
   "metadata": {
    "ExecuteTime": {
     "end_time": "2021-07-02T07:17:32.073051Z",
     "start_time": "2021-07-02T07:17:32.061046Z"
    }
   },
   "outputs": [],
   "source": [
    "#### Create features, labels, training, and test data\n"
   ]
  },
  {
   "cell_type": "code",
   "execution_count": 9,
   "metadata": {
    "ExecuteTime": {
     "end_time": "2021-07-02T07:17:35.292404Z",
     "start_time": "2021-07-02T07:17:32.075009Z"
    }
   },
   "outputs": [],
   "source": [
    "# Split the dataset in the ratio train 80% and test 20%\n",
    "X = data.drop(\"DELAYED\", axis = 1)\n",
    "y = data['DELAYED']\n",
    "X_train, X_test, y_train, y_test = train_test_split(X, y, test_size=0.20, random_state=42)"
   ]
  },
  {
   "cell_type": "code",
   "execution_count": 10,
   "metadata": {
    "ExecuteTime": {
     "end_time": "2021-07-02T07:17:38.772093Z",
     "start_time": "2021-07-02T07:17:35.294397Z"
    }
   },
   "outputs": [],
   "source": [
    "from sklearn.preprocessing import StandardScaler\n",
    "sc = StandardScaler()\n",
    "X_train_scaled = sc.fit_transform(X_train)\n",
    "X_test_scaled = sc.transform(X_test)"
   ]
  },
  {
   "cell_type": "markdown",
   "metadata": {},
   "source": [
    "## Train the classifier and make predictions"
   ]
  },
  {
   "cell_type": "code",
   "execution_count": 20,
   "metadata": {
    "ExecuteTime": {
     "end_time": "2021-07-02T07:27:21.201048Z",
     "start_time": "2021-07-02T07:26:22.454162Z"
    }
   },
   "outputs": [],
   "source": [
    "# Build a regular tree as baseline\n",
    "#Fits and predicts train and test data\n",
    "tree_clf1, y_pred_train1, y_pred_test1 = run_dec_tree(X_train_scaled, y_train,\n",
    "                                                    X_test_scaled, \n",
    "                                                    random_state=10, \n",
    "                                                    class_weight='balanced',\n",
    "                                                    criterion='entropy')"
   ]
  },
  {
   "cell_type": "markdown",
   "metadata": {},
   "source": [
    "## Check predictive performance"
   ]
  },
  {
   "cell_type": "code",
   "execution_count": 14,
   "metadata": {
    "ExecuteTime": {
     "end_time": "2021-07-02T07:19:56.942096Z",
     "start_time": "2021-07-02T07:19:54.002958Z"
    }
   },
   "outputs": [
    {
     "name": "stdout",
     "output_type": "stream",
     "text": [
      "              precision    recall  f1-score   support\n",
      "\n",
      "           0       1.00      0.85      0.92   1249891\n",
      "           1       0.62      0.99      0.76    304973\n",
      "\n",
      "    accuracy                           0.88   1554864\n",
      "   macro avg       0.81      0.92      0.84   1554864\n",
      "weighted avg       0.92      0.88      0.89   1554864\n",
      "\n"
     ]
    }
   ],
   "source": [
    "#Check predictive performance Train\n",
    "print(classification_report(y_train,y_pred_train1))"
   ]
  },
  {
   "cell_type": "code",
   "execution_count": 15,
   "metadata": {
    "ExecuteTime": {
     "end_time": "2021-07-02T07:20:04.245572Z",
     "start_time": "2021-07-02T07:20:03.479620Z"
    }
   },
   "outputs": [
    {
     "name": "stdout",
     "output_type": "stream",
     "text": [
      "              precision    recall  f1-score   support\n",
      "\n",
      "           0       0.83      0.75      0.79    312133\n",
      "           1       0.27      0.39      0.32     76583\n",
      "\n",
      "    accuracy                           0.68    388716\n",
      "   macro avg       0.55      0.57      0.55    388716\n",
      "weighted avg       0.72      0.68      0.70    388716\n",
      "\n"
     ]
    }
   ],
   "source": [
    "#Check predictive performance Test\n",
    "print(classification_report(y_test,y_pred_test1))"
   ]
  },
  {
   "cell_type": "markdown",
   "metadata": {
    "ExecuteTime": {
     "end_time": "2021-07-02T07:21:49.038284Z",
     "start_time": "2021-07-02T07:21:49.026283Z"
    }
   },
   "source": [
    "Observation Between the Train and the Test accuracy we have <br>\n",
    "88% and F1 of 84% vs 68% and F1 of 55% so some Overfitting"
   ]
  },
  {
   "cell_type": "code",
   "execution_count": 16,
   "metadata": {
    "ExecuteTime": {
     "end_time": "2021-07-02T07:21:28.415965Z",
     "start_time": "2021-07-02T07:21:27.486453Z"
    }
   },
   "outputs": [
    {
     "data": {
      "image/png": "[encoded data removed]",
      "text/plain": [
       "<Figure size 432x288 with 2 Axes>"
      ]
     },
     "metadata": {
      "needs_background": "light"
     },
     "output_type": "display_data"
    }
   ],
   "source": [
    "# Alternative confusion matrix\n",
    "plot_confusion_matrix(tree_clf1, X_test_scaled, y_pred_test1, values_format='.3g')\n",
    "plt.show()"
   ]
  },
  {
   "cell_type": "code",
   "execution_count": null,
   "metadata": {
    "ExecuteTime": {
     "end_time": "2021-07-02T07:18:49.408250Z",
     "start_time": "2021-07-02T07:17:15.099Z"
    }
   },
   "outputs": [],
   "source": [
    "#Observation: Accuracy 74%  Precision 84% Recall 84% F1 "
   ]
  },
  {
   "cell_type": "code",
   "execution_count": 18,
   "metadata": {
    "ExecuteTime": {
     "end_time": "2021-07-02T07:22:03.352255Z",
     "start_time": "2021-07-02T07:22:00.995561Z"
    },
    "scrolled": false
   },
   "outputs": [
    {
     "data": {
      "image/png": "[encoded data removed]",
      "text/plain": [
       "<Figure size 576x1152 with 1 Axes>"
      ]
     },
     "metadata": {
      "needs_background": "light"
     },
     "output_type": "display_data"
    }
   ],
   "source": [
    "\n",
    "plot_feature_importances(X_train, tree_clf1)"
   ]
  },
  {
   "cell_type": "markdown",
   "metadata": {
    "ExecuteTime": {
     "end_time": "2021-07-01T01:30:02.315383Z",
     "start_time": "2021-07-01T01:30:02.306414Z"
    }
   },
   "source": [
    "# Build Model Decision Tree Entropy"
   ]
  },
  {
   "cell_type": "markdown",
   "metadata": {
    "ExecuteTime": {
     "end_time": "2021-07-01T01:31:49.413475Z",
     "start_time": "2021-07-01T01:31:49.408487Z"
    }
   },
   "source": [
    "## Train the classifier and make predictions"
   ]
  },
  {
   "cell_type": "code",
   "execution_count": null,
   "metadata": {},
   "outputs": [],
   "source": []
  },
  {
   "cell_type": "code",
   "execution_count": 21,
   "metadata": {
    "ExecuteTime": {
     "end_time": "2021-07-02T07:29:31.510512Z",
     "start_time": "2021-07-02T07:28:28.848271Z"
    }
   },
   "outputs": [],
   "source": [
    "# Build a regular tree as baseline\n",
    "#Fits and predicts train and test data\n",
    "tree_clf2, y_pred_train2, y_pred_test2 = run_dec_tree(X_train_scaled, y_train,\n",
    "                                                    X_test_scaled, \n",
    "                                                    random_state=10, \n",
    "                                                    class_weight='balanced',\n",
    "                                                      criterion='entropy'\n",
    "                                                 )"
   ]
  },
  {
   "cell_type": "markdown",
   "metadata": {},
   "source": [
    "## Check predictive performance"
   ]
  },
  {
   "cell_type": "code",
   "execution_count": 22,
   "metadata": {
    "ExecuteTime": {
     "end_time": "2021-07-02T07:37:07.554850Z",
     "start_time": "2021-07-02T07:37:04.233735Z"
    }
   },
   "outputs": [
    {
     "name": "stdout",
     "output_type": "stream",
     "text": [
      "              precision    recall  f1-score   support\n",
      "\n",
      "           0       1.00      0.85      0.92   1249891\n",
      "           1       0.62      0.99      0.76    304973\n",
      "\n",
      "    accuracy                           0.88   1554864\n",
      "   macro avg       0.81      0.92      0.84   1554864\n",
      "weighted avg       0.92      0.88      0.89   1554864\n",
      "\n"
     ]
    }
   ],
   "source": [
    "#Check predictive performance Train\n",
    "print(classification_report(y_train,y_pred_train2))"
   ]
  },
  {
   "cell_type": "code",
   "execution_count": 23,
   "metadata": {
    "ExecuteTime": {
     "end_time": "2021-07-02T07:37:14.789494Z",
     "start_time": "2021-07-02T07:37:14.042493Z"
    }
   },
   "outputs": [
    {
     "name": "stdout",
     "output_type": "stream",
     "text": [
      "              precision    recall  f1-score   support\n",
      "\n",
      "           0       0.83      0.75      0.79    312133\n",
      "           1       0.27      0.39      0.32     76583\n",
      "\n",
      "    accuracy                           0.68    388716\n",
      "   macro avg       0.55      0.57      0.55    388716\n",
      "weighted avg       0.72      0.68      0.70    388716\n",
      "\n"
     ]
    }
   ],
   "source": [
    "#Check predictive performance Test\n",
    "print(classification_report(y_test,y_pred_test2))"
   ]
  },
  {
   "cell_type": "markdown",
   "metadata": {
    "ExecuteTime": {
     "end_time": "2021-07-02T07:21:49.038284Z",
     "start_time": "2021-07-02T07:21:49.026283Z"
    }
   },
   "source": [
    "Observation Between the Train and the Test accuracy we have <br>\n",
    "88% and F1 of 84% vs 68% and F1 of 55% so some Overfitting"
   ]
  },
  {
   "cell_type": "code",
   "execution_count": 16,
   "metadata": {
    "ExecuteTime": {
     "end_time": "2021-07-02T07:21:28.415965Z",
     "start_time": "2021-07-02T07:21:27.486453Z"
    }
   },
   "outputs": [
    {
     "data": {
      "image/png": "[encoded data removed]",
      "text/plain": [
       "<Figure size 432x288 with 2 Axes>"
      ]
     },
     "metadata": {
      "needs_background": "light"
     },
     "output_type": "display_data"
    }
   ],
   "source": [
    "# Alternative confusion matrix\n",
    "plot_confusion_matrix(tree_clf2, X_test_scaled, y_pred_test2, values_format='.3g')\n",
    "plt.show()"
   ]
  },
  {
   "cell_type": "code",
   "execution_count": null,
   "metadata": {
    "ExecuteTime": {
     "end_time": "2021-07-02T07:18:49.408250Z",
     "start_time": "2021-07-02T07:17:15.099Z"
    }
   },
   "outputs": [],
   "source": [
    "#Observation: Accuracy 74%  Precision 84% Recall 84% F1 "
   ]
  },
  {
   "cell_type": "code",
   "execution_count": 24,
   "metadata": {
    "ExecuteTime": {
     "end_time": "2021-07-02T07:38:03.910164Z",
     "start_time": "2021-07-02T07:38:01.444763Z"
    },
    "scrolled": false
   },
   "outputs": [
    {
     "data": {
      "image/png": "[encoded data removed]",
      "text/plain": [
       "<Figure size 576x1152 with 1 Axes>"
      ]
     },
     "metadata": {
      "needs_background": "light"
     },
     "output_type": "display_data"
    }
   ],
   "source": [
    "\n",
    "plot_feature_importances(X_train, tree_clf2)"
   ]
  },
  {
   "cell_type": "code",
   "execution_count": null,
   "metadata": {},
   "outputs": [],
   "source": []
  },
  {
   "cell_type": "markdown",
   "metadata": {},
   "source": [
    "# GridSearch for optimal params"
   ]
  },
  {
   "cell_type": "code",
   "execution_count": null,
   "metadata": {
    "ExecuteTime": {
     "start_time": "2021-07-02T07:03:31.762Z"
    }
   },
   "outputs": [],
   "source": [
    "clf = DecisionTreeClassifier()\n",
    "\n",
    "param_grid = {\n",
    "    'criterion': ['gini', 'entropy'],\n",
    "    'max_depth': [None, 2, 3, 4, 5, 6],\n",
    "    'min_samples_split': [2, 5, 10],\n",
    "    'min_samples_leaf': [1, 2, 3, 4, 5, 6],\n",
    "    'class_weight' : ['balanced']\n",
    "}\n",
    "\n",
    "gs_tree = GridSearchCV(clf, param_grid, cv=3,return_train_score=True)\n",
    "gs_tree.fit(X_train, y_train)\n",
    "\n",
    "gs_tree.best_params_"
   ]
  },
  {
   "cell_type": "code",
   "execution_count": null,
   "metadata": {
    "ExecuteTime": {
     "start_time": "2021-07-02T07:03:31.764Z"
    }
   },
   "outputs": [],
   "source": [
    "gs_tree.cv_results_"
   ]
  },
  {
   "cell_type": "code",
   "execution_count": null,
   "metadata": {
    "ExecuteTime": {
     "start_time": "2021-07-02T07:03:31.766Z"
    }
   },
   "outputs": [],
   "source": [
    "# Mean training score\n",
    "dt_gs_training_score = np.mean(gs_tree.cv_results_['mean_train_score'])\n",
    "\n",
    "# Mean test score\n",
    "dt_gs_testing_score = gs_tree.score(X_test, y_test)\n",
    "\n",
    "print(f\"Mean Training Score: {dt_gs_training_score :.2%}\")\n",
    "print(f\"Mean Test Score: {dt_gs_testing_score :.2%}\")"
   ]
  },
  {
   "cell_type": "markdown",
   "metadata": {},
   "source": [
    "# Run Model with Optimal Params"
   ]
  },
  {
   "cell_type": "markdown",
   "metadata": {
    "ExecuteTime": {
     "end_time": "2021-07-01T03:08:53.757770Z",
     "start_time": "2021-07-01T03:08:53.747834Z"
    }
   },
   "source": [
    "\n",
    "\n",
    "Grid Search identified these params as optimal<br>\n",
    "{'criterion': 'entropy', 'max_depth': 10, 'min_samples_split': 5}\n",
    "\n",
    "Run Time 2 hrs 56 mins <br>\n",
    "secondrun\n",
    "{'class_weight': 'balanced',\n",
    " 'criterion': 'gini',\n",
    " 'max_depth': None,\n",
    " 'min_samples_leaf': 1,\n",
    " 'min_samples_split': 2}\n",
    " Mean Training Score: 64.48%\n",
    "Mean Test Score: 74.05%"
   ]
  },
  {
   "cell_type": "markdown",
   "metadata": {
    "ExecuteTime": {
     "end_time": "2021-07-01T01:31:49.413475Z",
     "start_time": "2021-07-01T01:31:49.408487Z"
    }
   },
   "source": [
    "## Train the classifier and make predictions"
   ]
  },
  {
   "cell_type": "code",
   "execution_count": null,
   "metadata": {
    "ExecuteTime": {
     "end_time": "2021-07-01T11:04:41.344205Z",
     "start_time": "2021-07-01T11:04:33.345Z"
    }
   },
   "outputs": [],
   "source": []
  },
  {
   "cell_type": "code",
   "execution_count": null,
   "metadata": {
    "ExecuteTime": {
     "start_time": "2021-07-02T07:03:31.770Z"
    }
   },
   "outputs": [],
   "source": [
    "# Build a regular tree as baseline\n",
    "tree_clf3 = DecisionTreeClassifier(criterion='entropy', max_depth=10, min_samples_split=5)\n",
    "\n",
    "tree_clf3.fit(X_train_scaled, y_train)"
   ]
  },
  {
   "cell_type": "code",
   "execution_count": null,
   "metadata": {
    "ExecuteTime": {
     "start_time": "2021-07-02T07:03:31.772Z"
    }
   },
   "outputs": [],
   "source": [
    "# Make predictions for test data\n",
    "y_pred3 = tree_clf3.predict(X_test_scaled)"
   ]
  },
  {
   "cell_type": "markdown",
   "metadata": {},
   "source": [
    "## Check predictive performance"
   ]
  },
  {
   "cell_type": "code",
   "execution_count": null,
   "metadata": {
    "ExecuteTime": {
     "end_time": "2021-07-02T15:42:01.949609Z",
     "start_time": "2021-07-02T15:41:59.082829Z"
    }
   },
   "outputs": [],
   "source": [
    "#Check predictive performance\n",
    "print(classification_report(y_test,y_pred3))"
   ]
  },
  {
   "cell_type": "code",
   "execution_count": null,
   "metadata": {
    "ExecuteTime": {
     "start_time": "2021-07-02T07:03:31.862Z"
    }
   },
   "outputs": [],
   "source": [
    "acc_report(y_test, y_pred3)"
   ]
  },
  {
   "cell_type": "code",
   "execution_count": null,
   "metadata": {
    "ExecuteTime": {
     "start_time": "2021-07-02T07:03:31.865Z"
    }
   },
   "outputs": [],
   "source": [
    "#Observation: Accuracy 81%  Precision 81% Recall 99% F1 89"
   ]
  },
  {
   "cell_type": "code",
   "execution_count": null,
   "metadata": {
    "ExecuteTime": {
     "start_time": "2021-07-02T07:03:31.867Z"
    }
   },
   "outputs": [],
   "source": [
    "# Alternative confusion matrix\n",
    "plot_confusion_matrix(tree_clf3, X_test, y_test, values_format='.3g')\n",
    "plt.show()"
   ]
  },
  {
   "cell_type": "code",
   "execution_count": null,
   "metadata": {
    "ExecuteTime": {
     "start_time": "2021-07-02T07:03:31.870Z"
    },
    "scrolled": true
   },
   "outputs": [],
   "source": []
  },
  {
   "cell_type": "markdown",
   "metadata": {
    "ExecuteTime": {
     "end_time": "2021-07-01T10:25:27.954657Z",
     "start_time": "2021-07-01T10:25:27.944686Z"
    }
   },
   "source": [
    "# Second \"Optimal\""
   ]
  },
  {
   "cell_type": "markdown",
   "metadata": {
    "ExecuteTime": {
     "end_time": "2021-07-01T01:31:49.413475Z",
     "start_time": "2021-07-01T01:31:49.408487Z"
    }
   },
   "source": [
    "## Train the classifier and make predictions"
   ]
  },
  {
   "cell_type": "code",
   "execution_count": null,
   "metadata": {
    "ExecuteTime": {
     "start_time": "2021-07-02T07:03:31.788Z"
    }
   },
   "outputs": [],
   "source": [
    "#Builds a tree and Fits the tree and predicts for the train and test splits\n",
    "def run_dec_tree(Xtrain, ytrain, Xtest, **kwargs):\n",
    "    # Build a regular tree as baseline\n",
    "    tree = DecisionTreeClassifier(**kwargs )\n",
    "    tree.fit(Xtrain, ytrain)\n",
    "    # Make predictions for Train data\n",
    "    ypred_train = tree.predict(Xtrain)\n",
    "    # Make predictions for test data\n",
    "    ypred_test = tree.predict(Xtest)\n",
    "    return tree, ypred_train, ypred_test"
   ]
  },
  {
   "cell_type": "markdown",
   "metadata": {},
   "source": [
    "optimal {'class_weight': 'balanced',\n",
    "'max_depth': 15,\n",
    " 'min_samples_leaf': 35,\n",
    " 'min_samples_split': 120}"
   ]
  },
  {
   "cell_type": "code",
   "execution_count": 29,
   "metadata": {
    "ExecuteTime": {
     "end_time": "2021-07-02T15:46:34.913390Z",
     "start_time": "2021-07-02T15:42:52.854649Z"
    }
   },
   "outputs": [],
   "source": [
    "tree_clf4, y_pred_train4, y_pred_test4 = run_dec_tree(X_train_scaled, y_train, X_test_scaled, \n",
    "                                                random_state=10,  criterion='gini',\n",
    "                                   class_weight='balanced',\n",
    "                                   max_depth= 65)"
   ]
  },
  {
   "cell_type": "code",
   "execution_count": null,
   "metadata": {
    "ExecuteTime": {
     "start_time": "2021-07-02T07:03:31.770Z"
    }
   },
   "outputs": [],
   "source": []
  },
  {
   "cell_type": "code",
   "execution_count": null,
   "metadata": {
    "ExecuteTime": {
     "start_time": "2021-07-02T07:03:31.772Z"
    }
   },
   "outputs": [],
   "source": []
  },
  {
   "cell_type": "markdown",
   "metadata": {},
   "source": [
    "## Check predictive performance"
   ]
  },
  {
   "cell_type": "code",
   "execution_count": 27,
   "metadata": {
    "ExecuteTime": {
     "end_time": "2021-07-02T15:42:01.949609Z",
     "start_time": "2021-07-02T15:41:59.082829Z"
    }
   },
   "outputs": [
    {
     "name": "stdout",
     "output_type": "stream",
     "text": [
      "              precision    recall  f1-score   support\n",
      "\n",
      "           0       0.86      0.63      0.73    312133\n",
      "           1       0.28      0.59      0.38     76583\n",
      "\n",
      "    accuracy                           0.62    388716\n",
      "   macro avg       0.57      0.61      0.55    388716\n",
      "weighted avg       0.75      0.62      0.66    388716\n",
      "\n"
     ]
    }
   ],
   "source": [
    "\n",
    "#Check predictive performance\n",
    "print(classification_report(y_test,y_pred_test4))"
   ]
  },
  {
   "cell_type": "code",
   "execution_count": 28,
   "metadata": {
    "ExecuteTime": {
     "end_time": "2021-07-02T15:42:32.428610Z",
     "start_time": "2021-07-02T15:42:21.635297Z"
    }
   },
   "outputs": [
    {
     "name": "stdout",
     "output_type": "stream",
     "text": [
      "              precision    recall  f1-score   support\n",
      "\n",
      "           0       0.90      0.66      0.76   1249891\n",
      "           1       0.34      0.70      0.46    304973\n",
      "\n",
      "    accuracy                           0.67   1554864\n",
      "   macro avg       0.62      0.68      0.61   1554864\n",
      "weighted avg       0.79      0.67      0.70   1554864\n",
      "\n"
     ]
    }
   ],
   "source": [
    "#Check predictive performance\n",
    "print(classification_report(y_train,y_pred_train4))"
   ]
  },
  {
   "cell_type": "code",
   "execution_count": null,
   "metadata": {
    "ExecuteTime": {
     "start_time": "2021-07-02T07:03:31.862Z"
    }
   },
   "outputs": [],
   "source": [
    "acc_report(y_test, y_pred_test4)"
   ]
  },
  {
   "cell_type": "code",
   "execution_count": null,
   "metadata": {
    "ExecuteTime": {
     "start_time": "2021-07-02T07:03:31.865Z"
    }
   },
   "outputs": [],
   "source": [
    "#Observation: Accuracy 74%  Precision 84% Recall 84% F1 "
   ]
  },
  {
   "cell_type": "code",
   "execution_count": null,
   "metadata": {
    "ExecuteTime": {
     "start_time": "2021-07-02T07:03:31.867Z"
    }
   },
   "outputs": [],
   "source": [
    "# Alternative confusion matrix\n",
    "plot_confusion_matrix(tree_clf4, X_test_scaled, y_test, values_format='.3g')\n",
    "plt.show()"
   ]
  },
  {
   "cell_type": "code",
   "execution_count": null,
   "metadata": {
    "ExecuteTime": {
     "start_time": "2021-07-02T07:03:31.870Z"
    },
    "scrolled": true
   },
   "outputs": [],
   "source": [
    "from sklearn import tree\n"
   ]
  },
  {
   "cell_type": "markdown",
   "metadata": {},
   "source": [
    "Plot Decision Tree"
   ]
  },
  {
   "cell_type": "code",
   "execution_count": null,
   "metadata": {
    "ExecuteTime": {
     "start_time": "2021-07-02T07:03:31.873Z"
    },
    "scrolled": true
   },
   "outputs": [],
   "source": [
    "fig, axes = plt.subplots(nrows = 1,ncols = 1, figsize = (120,100), dpi=300)\n",
    "tree.plot_tree(tree_clf4,\n",
    "               feature_names = X.columns,\n",
    "               class_names=np.unique(y).astype('str'),\n",
    "               filled = True)\n",
    "plt.show()"
   ]
  },
  {
   "cell_type": "code",
   "execution_count": null,
   "metadata": {},
   "outputs": [],
   "source": []
  }
 ],
 "metadata": {
  "kernelspec": {
   "display_name": "learn-env",
   "language": "python",
   "name": "learn-env"
  },
  "language_info": {
   "codemirror_mode": {
    "name": "ipython",
    "version": 3
   },
   "file_extension": ".py",
   "mimetype": "text/x-python",
   "name": "python",
   "nbconvert_exporter": "python",
   "pygments_lexer": "ipython3",
   "version": "3.8.5"
  },
  "toc": {
   "base_numbering": 1,
   "nav_menu": {},
   "number_sections": true,
   "sideBar": true,
   "skip_h1_title": false,
   "title_cell": "Table of Contents",
   "title_sidebar": "Contents",
   "toc_cell": false,
   "toc_position": {
    "height": "calc(100% - 180px)",
    "left": "10px",
    "top": "150px",
    "width": "384px"
   },
   "toc_section_display": true,
   "toc_window_display": true
  },
  "varInspector": {
   "cols": {
    "lenName": 16,
    "lenType": 16,
    "lenVar": 40
   },
   "kernels_config": {
    "python": {
     "delete_cmd_postfix": "",
     "delete_cmd_prefix": "del ",
     "library": "var_list.py",
     "varRefreshCmd": "print(var_dic_list())"
    },
    "r": {
     "delete_cmd_postfix": ") ",
     "delete_cmd_prefix": "rm(",
     "library": "var_list.r",
     "varRefreshCmd": "cat(var_dic_list()) "
    }
   },
   "types_to_exclude": [
    "module",
    "function",
    "builtin_function_or_method",
    "instance",
    "_Feature"
   ],
   "window_display": false
  }
 },
 "nbformat": 4,
 "nbformat_minor": 4
}
