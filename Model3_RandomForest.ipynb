{
 "cells": [
  {
   "cell_type": "code",
   "execution_count": null,
   "metadata": {},
   "outputs": [],
   "source": []
  },
  {
   "cell_type": "markdown",
   "metadata": {},
   "source": [
    "## Import Needed Classes"
   ]
  },
  {
   "cell_type": "code",
   "execution_count": 63,
   "metadata": {
    "ExecuteTime": {
     "end_time": "2021-07-06T12:56:21.683521Z",
     "start_time": "2021-07-06T12:56:21.670530Z"
    }
   },
   "outputs": [],
   "source": [
    "\n",
    "import statsmodels.api as sm\n",
    "import sklearn.preprocessing as preprocessing\n",
    "from scipy import stats\n",
    "from sklearn.model_selection import train_test_split, GridSearchCV\n",
    "\n",
    "from sklearn.tree import DecisionTreeClassifier\n",
    "from sklearn.ensemble import RandomForestClassifier\n",
    "from xgboost import XGBClassifier\n",
    "\n",
    "from sklearn.metrics import accuracy_score, roc_curve, auc, roc_auc_score\n",
    "from sklearn.metrics import precision_recall_fscore_support\n",
    "from sklearn.metrics import classification_report\n",
    "from sklearn.metrics import plot_confusion_matrix\n",
    "from sklearn.model_selection import KFold\n",
    "from sklearn.model_selection import cross_val_score\n",
    "from sklearn.svm import SVC"
   ]
  },
  {
   "cell_type": "code",
   "execution_count": 5,
   "metadata": {
    "ExecuteTime": {
     "end_time": "2021-07-06T12:29:47.484311Z",
     "start_time": "2021-07-06T12:29:45.892847Z"
    }
   },
   "outputs": [],
   "source": [
    "import seaborn as sns\n",
    "import matplotlib.pyplot as plt\n",
    "import matplotlib.ticker as mticker\n",
    "%matplotlib inline"
   ]
  },
  {
   "cell_type": "code",
   "execution_count": 6,
   "metadata": {
    "ExecuteTime": {
     "end_time": "2021-07-06T12:29:47.514780Z",
     "start_time": "2021-07-06T12:29:47.500499Z"
    }
   },
   "outputs": [],
   "source": [
    "def acc_report(y_test, y_pred):\n",
    "    # Calculate accuracy \n",
    "    acc = accuracy_score(y_test,y_pred) * 100\n",
    "    print('Accuracy is :{0}'.format(acc))\n",
    "\n",
    "    # Check the AUC for predictions\n",
    "    false_positive_rate, true_positive_rate, thresholds = roc_curve(y_test, y_pred)\n",
    "    roc_auc = auc(false_positive_rate, true_positive_rate)\n",
    "    print('\\nAUC is :{0}'.format(round(roc_auc, 2)))\n",
    "\n",
    "    # Create and print a confusion matrix \n",
    "    print('\\nConfusion Matrix')\n",
    "    print('----------------')\n",
    "    print(pd.crosstab(y_test, y_pred, rownames=['True'], colnames=['Predicted'], margins=True))"
   ]
  },
  {
   "cell_type": "code",
   "execution_count": 1,
   "metadata": {
    "ExecuteTime": {
     "end_time": "2021-07-07T17:43:47.629978Z",
     "start_time": "2021-07-07T17:43:47.603720Z"
    }
   },
   "outputs": [],
   "source": [
    "def plot_feature_importances(data_train, model):\n",
    "    n_features = data_train.shape[1]\n",
    "    plt.figure(figsize=(8,16))\n",
    "    plt.barh(range(n_features), model.feature_importances_, align='center') \n",
    "    plt.yticks(np.arange(n_features), data_train.columns.values) \n",
    "    plt.xlabel('Feature importance')\n",
    "    plt.ylabel('Feature')"
   ]
  },
  {
   "cell_type": "markdown",
   "metadata": {},
   "source": [
    "## Load Data for Modeling"
   ]
  },
  {
   "cell_type": "code",
   "execution_count": 8,
   "metadata": {
    "ExecuteTime": {
     "end_time": "2021-07-06T12:29:57.111569Z",
     "start_time": "2021-07-06T12:29:47.562139Z"
    }
   },
   "outputs": [],
   "source": [
    "#### Load Data for Modeling\n",
    "import pandas as pd\n",
    "\n",
    "data = pd.read_csv('./data/2018_model_data.csv')"
   ]
  },
  {
   "cell_type": "code",
   "execution_count": 9,
   "metadata": {
    "ExecuteTime": {
     "end_time": "2021-07-06T12:29:57.723567Z",
     "start_time": "2021-07-06T12:29:57.365409Z"
    }
   },
   "outputs": [],
   "source": [
    "data.drop(columns=['Unnamed: 0'],inplace=True)"
   ]
  },
  {
   "cell_type": "markdown",
   "metadata": {},
   "source": [
    "## Create features, labels, training, and test data\n",
    "# Build Baseline Model Random Forest\n"
   ]
  },
  {
   "cell_type": "code",
   "execution_count": 8,
   "metadata": {
    "ExecuteTime": {
     "end_time": "2021-07-01T03:52:23.820113Z",
     "start_time": "2021-07-01T03:52:23.808144Z"
    }
   },
   "outputs": [],
   "source": [
    "#### Create features, labels, training, and test data"
   ]
  },
  {
   "cell_type": "code",
   "execution_count": 12,
   "metadata": {
    "ExecuteTime": {
     "end_time": "2021-07-06T12:30:09.142329Z",
     "start_time": "2021-07-06T12:30:06.535249Z"
    }
   },
   "outputs": [],
   "source": [
    "# Split the dataset in the ratio train 80% and test 20%\n",
    "X = data.drop(\"DELAYED\", axis = 1)\n",
    "y = data['DELAYED']\n",
    "X_train, X_test, y_train, y_test = train_test_split(X, y, test_size=0.20, random_state=42)"
   ]
  },
  {
   "cell_type": "markdown",
   "metadata": {},
   "source": [
    "## Train the classifier and make predictions"
   ]
  },
  {
   "cell_type": "code",
   "execution_count": 13,
   "metadata": {
    "ExecuteTime": {
     "end_time": "2021-07-06T12:30:12.158364Z",
     "start_time": "2021-07-06T12:30:09.598059Z"
    }
   },
   "outputs": [],
   "source": [
    "from sklearn.preprocessing import StandardScaler\n",
    "sc = StandardScaler()\n",
    "X_train_scaled = sc.fit_transform(X_train)\n",
    "X_test_scaled = sc.transform(X_test)"
   ]
  },
  {
   "cell_type": "code",
   "execution_count": 10,
   "metadata": {
    "ExecuteTime": {
     "end_time": "2021-07-06T12:29:57.978962Z",
     "start_time": "2021-07-06T12:29:57.966984Z"
    }
   },
   "outputs": [],
   "source": [
    "def run_randfor(Xtrain, ytrain, Xtest, **kwargs):\n",
    "    # Build a regular tree as baseline\n",
    "    forest = RandomForestClassifier(**kwargs )\n",
    "    forest.fit(Xtrain, ytrain)\n",
    "    # Make predictions for Train data\n",
    "    ypred_train = forest.predict(Xtrain)\n",
    "    # Make predictions for test data\n",
    "    ypred_test = forest.predict(Xtest)\n",
    "    return forest, ypred_train, ypred_test"
   ]
  },
  {
   "cell_type": "code",
   "execution_count": 30,
   "metadata": {
    "ExecuteTime": {
     "end_time": "2021-07-06T12:39:58.111387Z",
     "start_time": "2021-07-06T12:39:39.313575Z"
    }
   },
   "outputs": [],
   "source": [
    "#%%script echo skipping\n",
    "# Build a regular tree as baseline\n",
    "rf_clf1, y_pred_train1, y_pred_test1 = run_randfor(X_train_scaled, y_train,\n",
    "                                                     X_test_scaled, \n",
    "                                                     random_state=10, \n",
    "                                                     criterion = 'gini',\n",
    "                                                     class_weight={0:.2,1:.8},\n",
    "                                                     n_estimators=30,\n",
    "                                                     max_depth= 10,\n",
    "                                   min_samples_leaf =12,\n",
    "                                   min_samples_split = 50,n_jobs=12)"
   ]
  },
  {
   "cell_type": "markdown",
   "metadata": {
    "ExecuteTime": {
     "end_time": "2021-07-01T03:55:16.757449Z",
     "start_time": "2021-07-01T03:55:13.458275Z"
    }
   },
   "source": [
    "'n_estimators': [10, 30, 60],\n",
    "    'criterion': ['gini'],\n",
    "    'max_depth': [10],\n",
    "    'min_samples_leaf': [30,35],\n",
    "    'min_samples_split': [20, 30, 40],"
   ]
  },
  {
   "cell_type": "markdown",
   "metadata": {},
   "source": [
    "## Check predictive performance"
   ]
  },
  {
   "cell_type": "code",
   "execution_count": 31,
   "metadata": {
    "ExecuteTime": {
     "end_time": "2021-07-06T12:40:03.299258Z",
     "start_time": "2021-07-06T12:40:02.051590Z"
    }
   },
   "outputs": [
    {
     "data": {
      "text/plain": [
       "0.6265383982136058"
      ]
     },
     "execution_count": 31,
     "metadata": {},
     "output_type": "execute_result"
    }
   ],
   "source": [
    "# Training accuracy score\n",
    "rf_clf1.score(X_train_scaled, y_train)"
   ]
  },
  {
   "cell_type": "markdown",
   "metadata": {},
   "source": [
    "RF Train Score of 0.8038587297667191"
   ]
  },
  {
   "cell_type": "code",
   "execution_count": 32,
   "metadata": {
    "ExecuteTime": {
     "end_time": "2021-07-06T12:40:06.030344Z",
     "start_time": "2021-07-06T12:40:05.748063Z"
    }
   },
   "outputs": [
    {
     "data": {
      "text/plain": [
       "0.3442436123030696"
      ]
     },
     "execution_count": 32,
     "metadata": {},
     "output_type": "execute_result"
    }
   ],
   "source": [
    "# Test accuracy score\n",
    "rf_clf1.score(X_test, y_test)"
   ]
  },
  {
   "cell_type": "markdown",
   "metadata": {
    "ExecuteTime": {
     "end_time": "2021-07-01T04:00:52.475435Z",
     "start_time": "2021-07-01T04:00:52.457444Z"
    }
   },
   "source": [
    "RF TEST Score of 0.8029846983401764"
   ]
  },
  {
   "cell_type": "code",
   "execution_count": null,
   "metadata": {
    "ExecuteTime": {
     "end_time": "2021-07-01T18:14:36.811257Z",
     "start_time": "2021-07-01T18:14:36.775354Z"
    }
   },
   "outputs": [],
   "source": []
  },
  {
   "cell_type": "code",
   "execution_count": null,
   "metadata": {},
   "outputs": [],
   "source": []
  },
  {
   "cell_type": "code",
   "execution_count": null,
   "metadata": {},
   "outputs": [],
   "source": []
  },
  {
   "cell_type": "code",
   "execution_count": 34,
   "metadata": {
    "ExecuteTime": {
     "end_time": "2021-07-06T12:40:36.419776Z",
     "start_time": "2021-07-06T12:40:35.924101Z"
    }
   },
   "outputs": [
    {
     "name": "stdout",
     "output_type": "stream",
     "text": [
      "              precision    recall  f1-score   support\n",
      "\n",
      "           0       0.85      0.65      0.74    312133\n",
      "           1       0.27      0.52      0.35     76583\n",
      "\n",
      "    accuracy                           0.63    388716\n",
      "   macro avg       0.56      0.59      0.54    388716\n",
      "weighted avg       0.73      0.63      0.66    388716\n",
      "\n"
     ]
    }
   ],
   "source": [
    "#Check predictive performance\n",
    "print(classification_report(y_test,y_pred_test1))"
   ]
  },
  {
   "cell_type": "code",
   "execution_count": 65,
   "metadata": {
    "ExecuteTime": {
     "end_time": "2021-07-06T13:02:32.620264Z",
     "start_time": "2021-07-06T13:02:31.884234Z"
    }
   },
   "outputs": [
    {
     "data": {
      "image/png": "[encoded data removed]",
      "text/plain": [
       "<Figure size 432x288 with 2 Axes>"
      ]
     },
     "metadata": {
      "needs_background": "light"
     },
     "output_type": "display_data"
    }
   ],
   "source": [
    "# Alternative confusion matrix\n",
    "plot_confusion_matrix(rf_clf1, X_test, y_test, display_labels={'Delayed1', 'NotDelayed'}, values_format='.0f', )\n",
    "plt.show()"
   ]
  },
  {
   "cell_type": "code",
   "execution_count": null,
   "metadata": {
    "ExecuteTime": {
     "end_time": "2021-07-01T03:55:09.623537Z",
     "start_time": "2021-07-01T03:52:06.872Z"
    }
   },
   "outputs": [],
   "source": [
    "#Observation: Accuracy 74%  Precision 84% Recall 84% F1 "
   ]
  },
  {
   "cell_type": "code",
   "execution_count": 62,
   "metadata": {
    "ExecuteTime": {
     "end_time": "2021-07-06T12:55:55.423406Z",
     "start_time": "2021-07-06T12:55:53.771548Z"
    }
   },
   "outputs": [
    {
     "data": {
      "image/png": "[encoded data removed]",
      "text/plain": [
       "<Figure size 576x576 with 1 Axes>"
      ]
     },
     "metadata": {
      "needs_background": "light"
     },
     "output_type": "display_data"
    }
   ],
   "source": [
    "plot_feature_importances(X_train, rf_clf1)"
   ]
  },
  {
   "cell_type": "markdown",
   "metadata": {
    "ExecuteTime": {
     "end_time": "2021-07-01T01:30:02.315383Z",
     "start_time": "2021-07-01T01:30:02.306414Z"
    }
   },
   "source": [
    "# Build Model GridSearch Random Forest"
   ]
  },
  {
   "cell_type": "markdown",
   "metadata": {
    "ExecuteTime": {
     "end_time": "2021-07-01T01:31:49.413475Z",
     "start_time": "2021-07-01T01:31:49.408487Z"
    }
   },
   "source": [
    "## Train the classifier and make predictions"
   ]
  },
  {
   "cell_type": "code",
   "execution_count": 48,
   "metadata": {
    "ExecuteTime": {
     "end_time": "2021-07-02T14:59:52.815796Z",
     "start_time": "2021-07-02T14:06:16.210879Z"
    }
   },
   "outputs": [
    {
     "name": "stdout",
     "output_type": "stream",
     "text": [
      "Training Accuracy: 61.71%\n",
      "\n",
      "Optimal Parameters: {'class_weight': 'balanced', 'criterion': 'gini', 'max_depth': 10, 'min_samples_leaf': 20, 'min_samples_split': 30, 'n_estimators': 10, 'n_jobs': 12}\n"
     ]
    }
   ],
   "source": [
    "rf_clf = RandomForestClassifier()\n",
    "mean_rf_cv_score = np.mean(cross_val_score(rf_clf, X_train_scaled, y_train, cv=3))\n",
    "\n",
    "rf_param_grid = {\n",
    "    'class_weight': ['balanced'],\n",
    "    'n_estimators': [10],\n",
    "    'criterion': ['gini'],\n",
    "    'max_depth': [10],\n",
    "    'min_samples_leaf': [20, 26],\n",
    "    'min_samples_split': [30],\n",
    "    'n_jobs': [12]\n",
    "}\n",
    "\n",
    "rf_grid_search = GridSearchCV(rf_clf, rf_param_grid, cv=3)\n",
    "rf_grid_search.fit(X_train_scaled, y_train)\n",
    "\n",
    "print(f\"Training Accuracy: {rf_grid_search.best_score_ :.2%}\")\n",
    "print(\"\")\n",
    "print(f\"Optimal Parameters: {rf_grid_search.best_params_}\")"
   ]
  },
  {
   "cell_type": "markdown",
   "metadata": {
    "ExecuteTime": {
     "end_time": "2021-07-01T02:04:43.338089Z",
     "start_time": "2021-07-01T02:03:52.852733Z"
    }
   },
   "source": [
    "fIRST RUN Executed In 9 h 38 mins\n",
    "Training Accuracy: 81.35%\n",
    "\n",
    "Optimal Parameters: {'criterion': 'gini', 'max_depth': None, 'min_samples_leaf': 3, 'min_samples_split': 10, 'n_estimators': 100}"
   ]
  },
  {
   "cell_type": "markdown",
   "metadata": {
    "ExecuteTime": {
     "end_time": "2021-07-02T15:11:47.054040Z",
     "start_time": "2021-07-02T15:11:47.035092Z"
    }
   },
   "source": [
    "sECOND rUN WITH OPTIMAL FROM dtrEE gs\n",
    "executed in 1h 39m 25\n",
    "Training Accuracy: 62.30%\n",
    "\n",
    "Optimal Parameters: {'criterion': 'gini', 'max_depth': 10, 'min_samples_leaf': 35, 'min_samples_split': 30, 'class_weight': 'balanced', 'n_estimators': 10}"
   ]
  },
  {
   "cell_type": "markdown",
   "metadata": {},
   "source": [
    "Third Run\n",
    "executed in 53m 37s, \n",
    "Training Accuracy: 61.71%\n",
    "\n",
    "Optimal Parameters: {'class_weight': 'balanced', 'criterion': 'gini', 'max_depth': 10, 'min_samples_leaf': 20, 'min_samples_split': 30, 'n_estimators': 10, 'n_jobs': 12}"
   ]
  },
  {
   "cell_type": "markdown",
   "metadata": {},
   "source": [
    "# \"Optimal\" Random Forest"
   ]
  },
  {
   "cell_type": "markdown",
   "metadata": {},
   "source": [
    "## Train the classifier and make predictions"
   ]
  },
  {
   "cell_type": "code",
   "execution_count": 52,
   "metadata": {
    "ExecuteTime": {
     "end_time": "2021-07-06T12:51:58.909574Z",
     "start_time": "2021-07-06T12:51:44.613785Z"
    }
   },
   "outputs": [
    {
     "data": {
      "text/plain": [
       "RandomForestClassifier(class_weight='balanced', max_depth=65,\n",
       "                       min_samples_leaf=25, n_estimators=10, n_jobs=12,\n",
       "                       random_state=10)"
      ]
     },
     "execution_count": 52,
     "metadata": {},
     "output_type": "execute_result"
    }
   ],
   "source": [
    "# Build a regular tree as baseline\n",
    "# Optimal Parameters: {'criterion': 'gini', 'max_depth': None, 'min_samples_leaf': 3, 'min_samples_split': 10, 'n_estimators': 100}\n",
    "forest_clf2 = RandomForestClassifier(random_state=10,  criterion='gini',\n",
    "                                     class_weight='balanced',\n",
    "                                     max_depth=65,\n",
    "                                     min_samples_leaf=25,\n",
    "                                     n_estimators=10,\n",
    "                                     n_jobs=12)\n",
    "\n",
    "forest_clf2.fit(X_train_scaled, y_train)"
   ]
  },
  {
   "cell_type": "code",
   "execution_count": 53,
   "metadata": {
    "ExecuteTime": {
     "end_time": "2021-07-06T12:52:03.969914Z",
     "start_time": "2021-07-06T12:52:02.912706Z"
    }
   },
   "outputs": [],
   "source": [
    "    # Make predictions for test data\n",
    "y_pred_train2 = forest_clf2.predict(X_train_scaled)"
   ]
  },
  {
   "cell_type": "code",
   "execution_count": 54,
   "metadata": {
    "ExecuteTime": {
     "end_time": "2021-07-06T12:52:08.190505Z",
     "start_time": "2021-07-06T12:52:06.124363Z"
    }
   },
   "outputs": [
    {
     "name": "stdout",
     "output_type": "stream",
     "text": [
      "              precision    recall  f1-score   support\n",
      "\n",
      "           0       0.88      0.67      0.76   1249891\n",
      "           1       0.32      0.64      0.43    304973\n",
      "\n",
      "    accuracy                           0.67   1554864\n",
      "   macro avg       0.60      0.66      0.60   1554864\n",
      "weighted avg       0.77      0.67      0.70   1554864\n",
      "\n"
     ]
    }
   ],
   "source": [
    "#Check predictive performance Train\n",
    "print(classification_report(y_train,y_pred_train2))"
   ]
  },
  {
   "cell_type": "code",
   "execution_count": 55,
   "metadata": {
    "ExecuteTime": {
     "end_time": "2021-07-06T12:52:14.016619Z",
     "start_time": "2021-07-06T12:52:13.744178Z"
    }
   },
   "outputs": [],
   "source": [
    "y_pred_test2 =forest_clf2.predict(X_test_scaled)"
   ]
  },
  {
   "cell_type": "code",
   "execution_count": 56,
   "metadata": {
    "ExecuteTime": {
     "end_time": "2021-07-06T12:52:16.809710Z",
     "start_time": "2021-07-06T12:52:16.324711Z"
    }
   },
   "outputs": [
    {
     "name": "stdout",
     "output_type": "stream",
     "text": [
      "              precision    recall  f1-score   support\n",
      "\n",
      "           0       0.87      0.66      0.75    312133\n",
      "           1       0.30      0.59      0.40     76583\n",
      "\n",
      "    accuracy                           0.65    388716\n",
      "   macro avg       0.58      0.62      0.57    388716\n",
      "weighted avg       0.76      0.65      0.68    388716\n",
      "\n"
     ]
    }
   ],
   "source": [
    "#Check predictive performance Test\n",
    "print(classification_report(y_test,y_pred_test2))"
   ]
  },
  {
   "cell_type": "code",
   "execution_count": null,
   "metadata": {
    "ExecuteTime": {
     "end_time": "2021-07-02T15:51:02.403456Z",
     "start_time": "2021-07-02T15:50:59.466218Z"
    }
   },
   "outputs": [],
   "source": []
  },
  {
   "cell_type": "code",
   "execution_count": 58,
   "metadata": {
    "ExecuteTime": {
     "end_time": "2021-07-06T12:52:48.659791Z",
     "start_time": "2021-07-06T12:52:48.483608Z"
    }
   },
   "outputs": [
    {
     "name": "stdout",
     "output_type": "stream",
     "text": [
      "Accuracy is :64.56564689902139\n",
      "\n",
      "AUC is :0.62\n",
      "\n",
      "Confusion Matrix\n",
      "----------------\n",
      "Predicted       0       1     All\n",
      "True                             \n",
      "0          205799  106334  312133\n",
      "1           31405   45178   76583\n",
      "All        237204  151512  388716\n"
     ]
    }
   ],
   "source": [
    "acc_report(y_test, y_pred_test2)"
   ]
  },
  {
   "cell_type": "code",
   "execution_count": null,
   "metadata": {
    "ExecuteTime": {
     "end_time": "2021-07-01T14:13:24.308821Z",
     "start_time": "2021-07-01T14:13:24.299Z"
    }
   },
   "outputs": [],
   "source": [
    "#Observation: Accuracy 74%  Precision 84% Recall 84% F1 "
   ]
  },
  {
   "cell_type": "code",
   "execution_count": 67,
   "metadata": {
    "ExecuteTime": {
     "end_time": "2021-07-06T13:09:48.090694Z",
     "start_time": "2021-07-06T13:09:47.407109Z"
    }
   },
   "outputs": [
    {
     "data": {
      "image/png": "[encoded data removed]",
      "text/plain": [
       "<Figure size 432x288 with 2 Axes>"
      ]
     },
     "metadata": {
      "needs_background": "light"
     },
     "output_type": "display_data"
    }
   ],
   "source": [
    "# Alternative confusion matrix\n",
    "plot_confusion_matrix(forest_clf2, X_test_scaled, y_test, display_labels={'Delayed1', 'NotDelayed'}, values_format='.0f')\n",
    "plt.title('RandomForest')\n",
    "plt.show()"
   ]
  },
  {
   "cell_type": "code",
   "execution_count": null,
   "metadata": {},
   "outputs": [],
   "source": []
  }
 ],
 "metadata": {
  "kernelspec": {
   "display_name": "learn-env",
   "language": "python",
   "name": "learn-env"
  },
  "language_info": {
   "codemirror_mode": {
    "name": "ipython",
    "version": 3
   },
   "file_extension": ".py",
   "mimetype": "text/x-python",
   "name": "python",
   "nbconvert_exporter": "python",
   "pygments_lexer": "ipython3",
   "version": "3.8.5"
  },
  "toc": {
   "base_numbering": 1,
   "nav_menu": {},
   "number_sections": true,
   "sideBar": true,
   "skip_h1_title": false,
   "title_cell": "Table of Contents",
   "title_sidebar": "Contents",
   "toc_cell": false,
   "toc_position": {},
   "toc_section_display": true,
   "toc_window_display": true
  },
  "varInspector": {
   "cols": {
    "lenName": 16,
    "lenType": 16,
    "lenVar": 40
   },
   "kernels_config": {
    "python": {
     "delete_cmd_postfix": "",
     "delete_cmd_prefix": "del ",
     "library": "var_list.py",
     "varRefreshCmd": "print(var_dic_list())"
    },
    "r": {
     "delete_cmd_postfix": ") ",
     "delete_cmd_prefix": "rm(",
     "library": "var_list.r",
     "varRefreshCmd": "cat(var_dic_list()) "
    }
   },
   "types_to_exclude": [
    "module",
    "function",
    "builtin_function_or_method",
    "instance",
    "_Feature"
   ],
   "window_display": false
  }
 },
 "nbformat": 4,
 "nbformat_minor": 4
}
