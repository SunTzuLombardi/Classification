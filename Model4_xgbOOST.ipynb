{
 "cells": [
  {
   "cell_type": "code",
   "execution_count": null,
   "metadata": {},
   "outputs": [],
   "source": []
  },
  {
   "cell_type": "markdown",
   "metadata": {},
   "source": [
    "## Import Needed Classes"
   ]
  },
  {
   "cell_type": "code",
   "execution_count": 2,
   "metadata": {
    "ExecuteTime": {
     "end_time": "2021-07-07T17:40:13.382364Z",
     "start_time": "2021-07-07T17:40:11.890018Z"
    }
   },
   "outputs": [],
   "source": [
    "import statsmodels.api as sm\n",
    "import sklearn.preprocessing as preprocessing\n",
    "from scipy import stats\n",
    "from sklearn.model_selection import train_test_split, GridSearchCV\n",
    "\n",
    "from sklearn.tree import DecisionTreeClassifier\n",
    "from sklearn.ensemble import RandomForestClassifier\n",
    "from xgboost import XGBClassifier\n",
    "\n",
    "from sklearn.metrics import accuracy_score, roc_curve, auc, roc_auc_score\n",
    "from sklearn.metrics import precision_recall_fscore_support\n",
    "from sklearn.metrics import classification_report\n",
    "from sklearn.metrics import plot_confusion_matrix\n",
    "from sklearn.model_selection import KFold\n",
    "from sklearn.model_selection import cross_val_score\n",
    "from sklearn.svm import SVC"
   ]
  },
  {
   "cell_type": "code",
   "execution_count": 3,
   "metadata": {
    "ExecuteTime": {
     "end_time": "2021-07-07T17:40:15.813435Z",
     "start_time": "2021-07-07T17:40:15.520217Z"
    }
   },
   "outputs": [],
   "source": [
    "import seaborn as sns\n",
    "import matplotlib.pyplot as plt\n",
    "import matplotlib.ticker as mticker\n",
    "%matplotlib inline"
   ]
  },
  {
   "cell_type": "code",
   "execution_count": 4,
   "metadata": {
    "ExecuteTime": {
     "end_time": "2021-07-07T17:40:18.560878Z",
     "start_time": "2021-07-07T17:40:18.548911Z"
    }
   },
   "outputs": [],
   "source": [
    "def acc_report(y_test, y_pred):\n",
    "    # Calculate accuracy \n",
    "    acc = accuracy_score(y_test,y_pred) * 100\n",
    "    print('Accuracy is :{0}'.format(acc))\n",
    "\n",
    "    # Check the AUC for predictions\n",
    "    false_positive_rate, true_positive_rate, thresholds = roc_curve(y_test, y_pred)\n",
    "    roc_auc = auc(false_positive_rate, true_positive_rate)\n",
    "    print('\\nAUC is :{0}'.format(round(roc_auc, 2)))\n",
    "\n",
    "    # Create and print a confusion matrix \n",
    "    print('\\nConfusion Matrix')\n",
    "    print('----------------')\n",
    "    print(pd.crosstab(y_test, y_pred, rownames=['True'], colnames=['Predicted'], margins=True))"
   ]
  },
  {
   "cell_type": "code",
   "execution_count": 5,
   "metadata": {
    "ExecuteTime": {
     "end_time": "2021-07-07T17:40:20.997144Z",
     "start_time": "2021-07-07T17:40:20.978195Z"
    }
   },
   "outputs": [],
   "source": [
    "def plot_feature_importances(data_train, model):\n",
    "    n_features = data_train.shape[1]\n",
    "    plt.figure(figsize=(8,16))\n",
    "    plt.barh(range(n_features), model.feature_importances_, align='center') \n",
    "    plt.yticks(np.arange(n_features), data_train.columns.values) \n",
    "    plt.xlabel('Feature importance')\n",
    "    plt.ylabel('Feature')"
   ]
  },
  {
   "cell_type": "code",
   "execution_count": 6,
   "metadata": {
    "ExecuteTime": {
     "end_time": "2021-07-07T17:40:23.895458Z",
     "start_time": "2021-07-07T17:40:23.889474Z"
    }
   },
   "outputs": [],
   "source": [
    "def run_XGB(Xtrain, ytrain, Xtest ,ytest, **kwargs):\n",
    "    # Build a regular tree as baseline\n",
    "    boost = XGBClassifier(gpu_id=0, n_jobs=12, **kwargs )\n",
    "    boost.fit(Xtrain, ytrain, eval_set=[(Xtrain, ytrain), (Xtest, ytest)],\n",
    "        eval_metric='logloss',verbose=False)\n",
    "    \n",
    "    # Make predictions for Train data\n",
    "    ypred_train = boost.predict(Xtrain)\n",
    "    # Make predictions for test data\n",
    "    ypred_test = boost.predict(Xtest)\n",
    "    return boost, ypred_train, ypred_test"
   ]
  },
  {
   "cell_type": "markdown",
   "metadata": {},
   "source": [
    "## Load Data for Modeling"
   ]
  },
  {
   "cell_type": "code",
   "execution_count": 6,
   "metadata": {
    "ExecuteTime": {
     "end_time": "2021-07-06T13:23:03.582769Z",
     "start_time": "2021-07-06T13:22:55.412586Z"
    }
   },
   "outputs": [],
   "source": [
    "#### Load Data for Modeling\n",
    "import pandas as pd\n",
    "\n",
    "data = pd.read_csv('./data/2018_model_data.csv')"
   ]
  },
  {
   "cell_type": "code",
   "execution_count": 7,
   "metadata": {
    "ExecuteTime": {
     "end_time": "2021-07-06T13:23:04.403733Z",
     "start_time": "2021-07-06T13:23:04.042509Z"
    }
   },
   "outputs": [],
   "source": [
    "data.drop(columns=['Unnamed: 0'],inplace=True)"
   ]
  },
  {
   "cell_type": "markdown",
   "metadata": {},
   "source": [
    "## Create features, labels, training, and test data\n",
    "# Build Baseline XGBoost Tree Balanced\n"
   ]
  },
  {
   "cell_type": "code",
   "execution_count": 11,
   "metadata": {
    "ExecuteTime": {
     "end_time": "2021-07-02T12:28:56.345761Z",
     "start_time": "2021-07-02T12:28:56.331785Z"
    }
   },
   "outputs": [],
   "source": [
    "#### Create features, labels, training, and test data\n"
   ]
  },
  {
   "cell_type": "code",
   "execution_count": 8,
   "metadata": {
    "ExecuteTime": {
     "end_time": "2021-07-06T13:23:07.455813Z",
     "start_time": "2021-07-06T13:23:04.846252Z"
    }
   },
   "outputs": [],
   "source": [
    "# Split the dataset in the ratio train 80% and test 20%\n",
    "X = data.drop(\"DELAYED\", axis = 1)\n",
    "y = data['DELAYED']\n",
    "X_train, X_test, y_train, y_test = train_test_split(X, y, test_size=0.20, random_state=42)"
   ]
  },
  {
   "cell_type": "code",
   "execution_count": 9,
   "metadata": {
    "ExecuteTime": {
     "end_time": "2021-07-06T13:23:10.958361Z",
     "start_time": "2021-07-06T13:23:08.314446Z"
    }
   },
   "outputs": [],
   "source": [
    "from sklearn.preprocessing import StandardScaler\n",
    "sc = StandardScaler()\n",
    "X_train_scaled = sc.fit_transform(X_train)\n",
    "X_test_scaled = sc.transform(X_test)"
   ]
  },
  {
   "cell_type": "markdown",
   "metadata": {},
   "source": [
    "## Train the classifier and make predictions"
   ]
  },
  {
   "cell_type": "code",
   "execution_count": 10,
   "metadata": {
    "ExecuteTime": {
     "end_time": "2021-07-06T13:26:40.191658Z",
     "start_time": "2021-07-06T13:23:26.764818Z"
    }
   },
   "outputs": [],
   "source": [
    "#%%script echo skipping\n",
    "boost_clf1, y_pred_train1, y_pred_test1 = run_XGB(X_train_scaled, y_train, X_test_scaled, y_test,\n",
    "                                                random_state=10, \n",
    "                                                )"
   ]
  },
  {
   "cell_type": "markdown",
   "metadata": {},
   "source": [
    "## Check predictive performance"
   ]
  },
  {
   "cell_type": "code",
   "execution_count": 11,
   "metadata": {
    "ExecuteTime": {
     "end_time": "2021-07-06T13:26:43.526512Z",
     "start_time": "2021-07-06T13:26:41.347579Z"
    }
   },
   "outputs": [
    {
     "name": "stdout",
     "output_type": "stream",
     "text": [
      "              precision    recall  f1-score   support\n",
      "\n",
      "           0       0.82      0.99      0.90   1249891\n",
      "           1       0.77      0.08      0.15    304973\n",
      "\n",
      "    accuracy                           0.82   1554864\n",
      "   macro avg       0.79      0.54      0.52   1554864\n",
      "weighted avg       0.81      0.82      0.75   1554864\n",
      "\n"
     ]
    }
   ],
   "source": [
    "#x Train and y train\n",
    "print(classification_report(y_train,y_pred_train1))"
   ]
  },
  {
   "cell_type": "code",
   "execution_count": 12,
   "metadata": {
    "ExecuteTime": {
     "end_time": "2021-07-06T13:26:45.051491Z",
     "start_time": "2021-07-06T13:26:44.408861Z"
    }
   },
   "outputs": [
    {
     "name": "stdout",
     "output_type": "stream",
     "text": [
      "              precision    recall  f1-score   support\n",
      "\n",
      "           0       0.81      0.99      0.90    312133\n",
      "           1       0.75      0.08      0.14     76583\n",
      "\n",
      "    accuracy                           0.81    388716\n",
      "   macro avg       0.78      0.54      0.52    388716\n",
      "weighted avg       0.80      0.81      0.75    388716\n",
      "\n"
     ]
    }
   ],
   "source": [
    "#x Test and y test\n",
    "print(classification_report(y_test,y_pred_test1))"
   ]
  },
  {
   "cell_type": "markdown",
   "metadata": {},
   "source": [
    "## Observation Between the Train and the Test accuracy we have <br>\n",
    "82% and F1 of 52% vs 81% and F1 of 52% "
   ]
  },
  {
   "cell_type": "code",
   "execution_count": 15,
   "metadata": {
    "ExecuteTime": {
     "end_time": "2021-07-06T13:29:06.783627Z",
     "start_time": "2021-07-06T13:29:04.965455Z"
    }
   },
   "outputs": [
    {
     "data": {
      "image/png": "[encoded data removed]",
      "text/plain": [
       "<Figure size 432x288 with 2 Axes>"
      ]
     },
     "metadata": {
      "needs_background": "light"
     },
     "output_type": "display_data"
    }
   ],
   "source": [
    "# Alternative confusion matrix\n",
    "plot_confusion_matrix(boost_clf1, X_test_scaled, y_pred_test1,\n",
    "                      display_labels={'Delayed1', 'NotDelayed'}, values_format='.0f')\n",
    "plt.show()"
   ]
  },
  {
   "cell_type": "code",
   "execution_count": null,
   "metadata": {
    "ExecuteTime": {
     "end_time": "2021-07-01T23:05:20.520030Z",
     "start_time": "2021-07-01T23:05:20.506101Z"
    }
   },
   "outputs": [],
   "source": []
  },
  {
   "cell_type": "code",
   "execution_count": 16,
   "metadata": {
    "ExecuteTime": {
     "end_time": "2021-07-06T13:29:19.969743Z",
     "start_time": "2021-07-06T13:29:18.346084Z"
    }
   },
   "outputs": [
    {
     "data": {
      "image/png": "[encoded data removed]",
      "text/plain": [
       "<Figure size 576x1152 with 1 Axes>"
      ]
     },
     "metadata": {
      "needs_background": "light"
     },
     "output_type": "display_data"
    }
   ],
   "source": [
    "\n",
    "plot_feature_importances(X_train, boost_clf1)"
   ]
  },
  {
   "cell_type": "code",
   "execution_count": null,
   "metadata": {
    "ExecuteTime": {
     "end_time": "2021-07-02T12:29:01.892347Z",
     "start_time": "2021-07-02T12:28:45.494Z"
    }
   },
   "outputs": [],
   "source": [
    "print(boost_clf1.)"
   ]
  },
  {
   "cell_type": "code",
   "execution_count": null,
   "metadata": {
    "ExecuteTime": {
     "end_time": "2021-07-02T12:29:01.893341Z",
     "start_time": "2021-07-02T12:28:45.496Z"
    }
   },
   "outputs": [],
   "source": [
    "print(boost_clf1.get_xgb_params)"
   ]
  },
  {
   "cell_type": "code",
   "execution_count": null,
   "metadata": {},
   "outputs": [],
   "source": []
  },
  {
   "cell_type": "code",
   "execution_count": null,
   "metadata": {},
   "outputs": [],
   "source": []
  },
  {
   "cell_type": "code",
   "execution_count": null,
   "metadata": {},
   "outputs": [],
   "source": []
  },
  {
   "cell_type": "markdown",
   "metadata": {},
   "source": [
    "## 2Train the classifier and make predictions"
   ]
  },
  {
   "cell_type": "code",
   "execution_count": 14,
   "metadata": {
    "ExecuteTime": {
     "end_time": "2021-07-02T12:29:01.475992Z",
     "start_time": "2021-07-02T12:29:01.460907Z"
    }
   },
   "outputs": [],
   "source": [
    "#scale_pos_weight is from training set \n",
    "#total_negative_examples / total_positive_examples\n"
   ]
  },
  {
   "cell_type": "code",
   "execution_count": 17,
   "metadata": {
    "ExecuteTime": {
     "end_time": "2021-07-06T13:33:11.236300Z",
     "start_time": "2021-07-06T13:29:50.297162Z"
    }
   },
   "outputs": [],
   "source": [
    "#%%script echo skipping\n",
    "boost_clf2, y_pred_train2, y_pred_test2 = run_XGB(X_train_scaled, y_train, X_test_scaled, y_test,\n",
    "                                                random_state=10, scale_pos_weight=4\n",
    ")"
   ]
  },
  {
   "cell_type": "markdown",
   "metadata": {},
   "source": [
    "## Check predictive performance"
   ]
  },
  {
   "cell_type": "code",
   "execution_count": 18,
   "metadata": {
    "ExecuteTime": {
     "end_time": "2021-07-06T13:33:15.282659Z",
     "start_time": "2021-07-06T13:33:12.457182Z"
    }
   },
   "outputs": [
    {
     "name": "stdout",
     "output_type": "stream",
     "text": [
      "              precision    recall  f1-score   support\n",
      "\n",
      "           0       0.87      0.69      0.77   1249891\n",
      "           1       0.32      0.58      0.41    304973\n",
      "\n",
      "    accuracy                           0.67   1554864\n",
      "   macro avg       0.59      0.64      0.59   1554864\n",
      "weighted avg       0.76      0.67      0.70   1554864\n",
      "\n"
     ]
    }
   ],
   "source": [
    "#x Train and y train\n",
    "print(classification_report(y_train,y_pred_train2))"
   ]
  },
  {
   "cell_type": "code",
   "execution_count": 19,
   "metadata": {
    "ExecuteTime": {
     "end_time": "2021-07-06T13:33:16.751963Z",
     "start_time": "2021-07-06T13:33:16.192459Z"
    }
   },
   "outputs": [
    {
     "name": "stdout",
     "output_type": "stream",
     "text": [
      "              precision    recall  f1-score   support\n",
      "\n",
      "           0       0.87      0.69      0.77    312133\n",
      "           1       0.31      0.57      0.40     76583\n",
      "\n",
      "    accuracy                           0.67    388716\n",
      "   macro avg       0.59      0.63      0.59    388716\n",
      "weighted avg       0.76      0.67      0.70    388716\n",
      "\n"
     ]
    }
   ],
   "source": [
    "#x Test and y test\n",
    "print(classification_report(y_test,y_pred_test2))"
   ]
  },
  {
   "cell_type": "markdown",
   "metadata": {},
   "source": [
    "## Observation Between the Train and the Test accuracy we have <br>\n",
    "82% and F1 of 52% vs 81% and F1 of 52% "
   ]
  },
  {
   "cell_type": "code",
   "execution_count": 20,
   "metadata": {
    "ExecuteTime": {
     "end_time": "2021-07-06T13:33:19.878870Z",
     "start_time": "2021-07-06T13:33:17.657776Z"
    }
   },
   "outputs": [
    {
     "data": {
      "image/png": "[encoded data removed]",
      "text/plain": [
       "<Figure size 432x288 with 2 Axes>"
      ]
     },
     "metadata": {
      "needs_background": "light"
     },
     "output_type": "display_data"
    }
   ],
   "source": [
    "# Alternative confusion matrix\n",
    "plot_confusion_matrix(boost_clf2, X_test_scaled, y_pred_test2,\n",
    "                      display_labels={'Delayed1', 'NotDelayed'},values_format='.0f')\n",
    "plt.show()"
   ]
  },
  {
   "cell_type": "code",
   "execution_count": null,
   "metadata": {
    "ExecuteTime": {
     "end_time": "2021-07-01T23:05:20.520030Z",
     "start_time": "2021-07-01T23:05:20.506101Z"
    }
   },
   "outputs": [],
   "source": []
  },
  {
   "cell_type": "code",
   "execution_count": 21,
   "metadata": {
    "ExecuteTime": {
     "end_time": "2021-07-06T13:33:22.844285Z",
     "start_time": "2021-07-06T13:33:20.809690Z"
    }
   },
   "outputs": [
    {
     "data": {
      "image/png": "[encoded data removed]",
      "text/plain": [
       "<Figure size 576x1152 with 1 Axes>"
      ]
     },
     "metadata": {
      "needs_background": "light"
     },
     "output_type": "display_data"
    }
   ],
   "source": [
    "\n",
    "plot_feature_importances(X_train, boost_clf2)"
   ]
  },
  {
   "cell_type": "code",
   "execution_count": null,
   "metadata": {
    "ExecuteTime": {
     "end_time": "2021-07-02T12:29:01.892347Z",
     "start_time": "2021-07-02T12:28:45.494Z"
    }
   },
   "outputs": [],
   "source": [
    "print(boost_clf2.)"
   ]
  },
  {
   "cell_type": "code",
   "execution_count": null,
   "metadata": {
    "ExecuteTime": {
     "end_time": "2021-07-02T12:29:01.893341Z",
     "start_time": "2021-07-02T12:28:45.496Z"
    }
   },
   "outputs": [],
   "source": [
    "print(boost_clf2.get_xgb_params)"
   ]
  },
  {
   "cell_type": "code",
   "execution_count": null,
   "metadata": {},
   "outputs": [],
   "source": []
  },
  {
   "cell_type": "code",
   "execution_count": null,
   "metadata": {},
   "outputs": [],
   "source": []
  },
  {
   "cell_type": "markdown",
   "metadata": {},
   "source": [
    "# GridSearch for XGB optimal params"
   ]
  },
  {
   "cell_type": "markdown",
   "metadata": {},
   "source": [
    " learning_rate =0.1,\n",
    " n_estimators=1000,\n",
    " max_depth=5,\n",
    " min_child_weight=1,\n",
    " gamma=0,\n",
    " subsample=0.8,\n",
    " colsample_bytree=0.8,\n",
    " objective= 'binary:logistic',\n",
    " nthread=4,\n",
    " scale_pos_weight=1,\n",
    " seed=27)"
   ]
  },
  {
   "cell_type": "code",
   "execution_count": null,
   "metadata": {
    "ExecuteTime": {
     "end_time": "2021-07-02T14:37:05.464734Z",
     "start_time": "2021-07-02T13:49:23.459731Z"
    },
    "scrolled": true
   },
   "outputs": [],
   "source": [
    "clf = XGBClassifier()\n",
    "\n",
    "param_grid = {\n",
    "    'learning_rate': [0.1],\n",
    "     'n_estimators' : [100],\n",
    "    'max_depth': [10],\n",
    "     'min_child_weight' : [5],\n",
    "    'gamma': [0],\n",
    "    'subsample' :  [0.8],\n",
    "    'colsample_bytree' : [0.8],\n",
    "     'objective' :['binary:logistic'],\n",
    "     'scale_pos_weight' :[1],\n",
    "     'random_state' : [27],\n",
    "    'n_jobs' : [12],\n",
    "    'early_stopping_rounds' : [10],\n",
    "    'gpu_id' : [1]\n",
    "}\n",
    "\n",
    "gs_tree = GridSearchCV(clf, param_grid, cv=3,return_train_score=True)\n",
    "gs_tree.fit(X_train_scaled, y_train)\n",
    "\n"
   ]
  },
  {
   "cell_type": "code",
   "execution_count": 24,
   "metadata": {
    "ExecuteTime": {
     "end_time": "2021-07-02T14:44:39.960452Z",
     "start_time": "2021-07-02T14:44:39.943500Z"
    }
   },
   "outputs": [
    {
     "data": {
      "text/plain": [
       "(<function sklearn.metrics._scorer._passthrough_scorer(estimator, *args, **kwargs)>,\n",
       " {'colsample_bytree': 0.8,\n",
       "  'early_stopping_rounds': 10,\n",
       "  'gamma': 0,\n",
       "  'learning_rate': 0.1,\n",
       "  'max_depth': 10,\n",
       "  'min_child_weight': 5,\n",
       "  'n_estimators': 100,\n",
       "  'n_jobs': -1,\n",
       "  'objective': 'binary:logistic',\n",
       "  'random_state': 27,\n",
       "  'scale_pos_weight': 1,\n",
       "  'subsample': 0.8},\n",
       " 0.8139772996223463)"
      ]
     },
     "execution_count": 24,
     "metadata": {},
     "output_type": "execute_result"
    }
   ],
   "source": [
    "gs_tree.scorer_, gs_tree.best_params_, gs_tree.best_score_"
   ]
  },
  {
   "cell_type": "code",
   "execution_count": 25,
   "metadata": {
    "ExecuteTime": {
     "end_time": "2021-07-02T14:46:13.805690Z",
     "start_time": "2021-07-02T14:46:13.778762Z"
    }
   },
   "outputs": [
    {
     "data": {
      "text/plain": [
       "{'mean_fit_time': array([128.17369954, 128.67897948, 271.34017603, 245.56594141]),\n",
       " 'std_fit_time': array([ 2.37646103,  0.50275505, 14.46040803,  5.82778692]),\n",
       " 'mean_score_time': array([3.24069262, 3.44777815, 5.16003291, 5.11349257]),\n",
       " 'std_score_time': array([0.03590733, 0.27582735, 0.4436175 , 0.31495155]),\n",
       " 'param_colsample_bytree': masked_array(data=[0.8, 0.8, 0.8, 0.8],\n",
       "              mask=[False, False, False, False],\n",
       "        fill_value='?',\n",
       "             dtype=object),\n",
       " 'param_early_stopping_rounds': masked_array(data=[10, 10, 10, 10],\n",
       "              mask=[False, False, False, False],\n",
       "        fill_value='?',\n",
       "             dtype=object),\n",
       " 'param_gamma': masked_array(data=[0, 0, 0, 0],\n",
       "              mask=[False, False, False, False],\n",
       "        fill_value='?',\n",
       "             dtype=object),\n",
       " 'param_learning_rate': masked_array(data=[0.1, 0.1, 0.1, 0.1],\n",
       "              mask=[False, False, False, False],\n",
       "        fill_value='?',\n",
       "             dtype=object),\n",
       " 'param_max_depth': masked_array(data=[5, 5, 10, 10],\n",
       "              mask=[False, False, False, False],\n",
       "        fill_value='?',\n",
       "             dtype=object),\n",
       " 'param_min_child_weight': masked_array(data=[5, 10, 5, 10],\n",
       "              mask=[False, False, False, False],\n",
       "        fill_value='?',\n",
       "             dtype=object),\n",
       " 'param_n_estimators': masked_array(data=[100, 100, 100, 100],\n",
       "              mask=[False, False, False, False],\n",
       "        fill_value='?',\n",
       "             dtype=object),\n",
       " 'param_n_jobs': masked_array(data=[-1, -1, -1, -1],\n",
       "              mask=[False, False, False, False],\n",
       "        fill_value='?',\n",
       "             dtype=object),\n",
       " 'param_objective': masked_array(data=['binary:logistic', 'binary:logistic',\n",
       "                    'binary:logistic', 'binary:logistic'],\n",
       "              mask=[False, False, False, False],\n",
       "        fill_value='?',\n",
       "             dtype=object),\n",
       " 'param_random_state': masked_array(data=[27, 27, 27, 27],\n",
       "              mask=[False, False, False, False],\n",
       "        fill_value='?',\n",
       "             dtype=object),\n",
       " 'param_scale_pos_weight': masked_array(data=[1, 1, 1, 1],\n",
       "              mask=[False, False, False, False],\n",
       "        fill_value='?',\n",
       "             dtype=object),\n",
       " 'param_subsample': masked_array(data=[0.8, 0.8, 0.8, 0.8],\n",
       "              mask=[False, False, False, False],\n",
       "        fill_value='?',\n",
       "             dtype=object),\n",
       " 'params': [{'colsample_bytree': 0.8,\n",
       "   'early_stopping_rounds': 10,\n",
       "   'gamma': 0,\n",
       "   'learning_rate': 0.1,\n",
       "   'max_depth': 5,\n",
       "   'min_child_weight': 5,\n",
       "   'n_estimators': 100,\n",
       "   'n_jobs': -1,\n",
       "   'objective': 'binary:logistic',\n",
       "   'random_state': 27,\n",
       "   'scale_pos_weight': 1,\n",
       "   'subsample': 0.8},\n",
       "  {'colsample_bytree': 0.8,\n",
       "   'early_stopping_rounds': 10,\n",
       "   'gamma': 0,\n",
       "   'learning_rate': 0.1,\n",
       "   'max_depth': 5,\n",
       "   'min_child_weight': 10,\n",
       "   'n_estimators': 100,\n",
       "   'n_jobs': -1,\n",
       "   'objective': 'binary:logistic',\n",
       "   'random_state': 27,\n",
       "   'scale_pos_weight': 1,\n",
       "   'subsample': 0.8},\n",
       "  {'colsample_bytree': 0.8,\n",
       "   'early_stopping_rounds': 10,\n",
       "   'gamma': 0,\n",
       "   'learning_rate': 0.1,\n",
       "   'max_depth': 10,\n",
       "   'min_child_weight': 5,\n",
       "   'n_estimators': 100,\n",
       "   'n_jobs': -1,\n",
       "   'objective': 'binary:logistic',\n",
       "   'random_state': 27,\n",
       "   'scale_pos_weight': 1,\n",
       "   'subsample': 0.8},\n",
       "  {'colsample_bytree': 0.8,\n",
       "   'early_stopping_rounds': 10,\n",
       "   'gamma': 0,\n",
       "   'learning_rate': 0.1,\n",
       "   'max_depth': 10,\n",
       "   'min_child_weight': 10,\n",
       "   'n_estimators': 100,\n",
       "   'n_jobs': -1,\n",
       "   'objective': 'binary:logistic',\n",
       "   'random_state': 27,\n",
       "   'scale_pos_weight': 1,\n",
       "   'subsample': 0.8}],\n",
       " 'split0_test_score': array([0.80800443, 0.80817615, 0.81417089, 0.81398952]),\n",
       " 'split1_test_score': array([0.80778255, 0.80794848, 0.81380236, 0.81363257]),\n",
       " 'split2_test_score': array([0.80791761, 0.80825526, 0.81395865, 0.81382166]),\n",
       " 'mean_test_score': array([0.80790153, 0.80812663, 0.8139773 , 0.81381458]),\n",
       " 'std_test_score': array([9.12946056e-05, 1.30045373e-04, 1.51025001e-04, 1.45807781e-04]),\n",
       " 'rank_test_score': array([4, 3, 1, 2]),\n",
       " 'split0_train_score': array([0.80815975, 0.8084125 , 0.81585528, 0.81530539]),\n",
       " 'split1_train_score': array([0.8081501 , 0.80839321, 0.81604629, 0.81542309]),\n",
       " 'split2_train_score': array([0.80797356, 0.80814721, 0.81567777, 0.81516358]),\n",
       " 'mean_train_score': array([0.80809447, 0.80831764, 0.81585978, 0.81529735]),\n",
       " 'std_train_score': array([8.55875789e-05, 1.20771411e-04, 1.50481734e-04, 1.06096191e-04])}"
      ]
     },
     "execution_count": 25,
     "metadata": {},
     "output_type": "execute_result"
    }
   ],
   "source": [
    "gs_tree.cv_results_"
   ]
  },
  {
   "cell_type": "code",
   "execution_count": 29,
   "metadata": {
    "ExecuteTime": {
     "end_time": "2021-07-02T14:54:12.633191Z",
     "start_time": "2021-07-02T14:54:12.621223Z"
    }
   },
   "outputs": [
    {
     "name": "stdout",
     "output_type": "stream",
     "text": [
      "Mean Training Score: 81.19%\n"
     ]
    }
   ],
   "source": [
    "# Mean training score\n",
    "dt_gs_training_score = np.mean(gs_tree.cv_results_['mean_train_score'])\n",
    "\n",
    "# Mean test score\n",
    "#dt_gs_testing_score = gs_tree.score(X_test, y_test)\n",
    "\n",
    "print(f\"Mean Training Score: {dt_gs_training_score :.2%}\")\n",
    "#print(f\"Mean Test Score: {dt_gs_testing_score :.2%}\")"
   ]
  },
  {
   "cell_type": "code",
   "execution_count": null,
   "metadata": {},
   "outputs": [],
   "source": []
  },
  {
   "cell_type": "markdown",
   "metadata": {},
   "source": [
    "Observation \n",
    "       'min_child_weight' : [5],\n",
    "    'max_depth': [10],\n",
    "    'learning_rate': [0.1],\n",
    "     'n_estimators' : [100],\n",
    "    \n",
    "     \n",
    "    'gamma': [0],\n",
    "    'subsample' :  [0.8],\n",
    "    'colsample_bytree' : [0.8],\n",
    "     'objective' :['binary:logistic'],\n",
    "     'scale_pos_weight' :[1],\n",
    "     'random_state' : [27],\n",
    "    'n_jobs' : [12],\n",
    "    'early_stopping_rounds' : [10],\n",
    "    'gpu_id' : [1]\n",
    "Mean Training Score: 81.19%\n"
   ]
  },
  {
   "cell_type": "code",
   "execution_count": null,
   "metadata": {},
   "outputs": [],
   "source": []
  },
  {
   "cell_type": "markdown",
   "metadata": {},
   "source": [
    "# GridSearch 2 for optimal params"
   ]
  },
  {
   "cell_type": "code",
   "execution_count": null,
   "metadata": {
    "ExecuteTime": {
     "end_time": "2021-07-02T04:07:17.718751Z",
     "start_time": "2021-07-02T02:54:54.257317Z"
    }
   },
   "outputs": [],
   "source": [
    "clf = DecisionTreeClassifier()\n",
    "\n",
    "param_grid = {\n",
    "        'min_child_weight' : [5],\n",
    "    'max_depth': [10],\n",
    "    'learning_rate': [0.1],\n",
    "     'n_estimators' : [100],\n",
    "    \n",
    "     \n",
    "    'gamma': [0],\n",
    "    'subsample' :  [0.8],\n",
    "    'colsample_bytree' : [0.8],\n",
    "     'objective' :['binary:logistic'],\n",
    "     'scale_pos_weight' :[1],\n",
    "     'random_state' : [27],\n",
    "    'n_jobs' : [12],\n",
    "    'early_stopping_rounds' : [10],\n",
    "    'gpu_id' : [1]\n",
    "}\n",
    "\n",
    "gs_tree2 = GridSearchCV(clf, param_grid, cv=3,return_train_score=True)\n",
    "gs_tree2.fit(X_train_scaled, y_train)\n",
    "\n",
    "gs_tree2.best_params_"
   ]
  },
  {
   "cell_type": "code",
   "execution_count": null,
   "metadata": {
    "ExecuteTime": {
     "end_time": "2021-07-02T04:07:19.576129Z",
     "start_time": "2021-07-02T04:07:19.532246Z"
    }
   },
   "outputs": [],
   "source": [
    "gs_tree2.cv_results_"
   ]
  },
  {
   "cell_type": "code",
   "execution_count": null,
   "metadata": {
    "ExecuteTime": {
     "end_time": "2021-07-02T04:07:21.226563Z",
     "start_time": "2021-07-02T04:07:20.929888Z"
    }
   },
   "outputs": [],
   "source": [
    "# Mean training score\n",
    "dt_gs_training_score = np.mean(gs_tree2.cv_results_['mean_train_score'])\n",
    "\n",
    "# Mean test score\n",
    "dt_gs_testing_score = gs_tree2.score(X_test, y_test)\n",
    "\n",
    "print(f\"Mean Training Score: {dt_gs_training_score :.2%}\")\n",
    "print(f\"Mean Test Score: {dt_gs_testing_score :.2%}\")"
   ]
  },
  {
   "cell_type": "markdown",
   "metadata": {
    "ExecuteTime": {
     "end_time": "2021-07-02T14:56:41.821600Z",
     "start_time": "2021-07-02T14:56:41.815618Z"
    }
   },
   "source": [
    "Observation {'class_weight': 'balanced',\n",
    " 'criterion': 'gini',\n",
    " 'max_depth': 30,\n",
    " 'min_samples_leaf': 50,\n",
    " 'min_samples_split': 200}\n",
    "Mean Training Score: 64.44%\n",
    "Mean Test Score: 19.70%"
   ]
  },
  {
   "cell_type": "code",
   "execution_count": null,
   "metadata": {},
   "outputs": [],
   "source": []
  },
  {
   "cell_type": "code",
   "execution_count": null,
   "metadata": {},
   "outputs": [],
   "source": []
  },
  {
   "cell_type": "markdown",
   "metadata": {},
   "source": [
    "# Run XGBModel with 1st Optimal Params"
   ]
  },
  {
   "cell_type": "markdown",
   "metadata": {
    "ExecuteTime": {
     "end_time": "2021-07-01T03:08:53.757770Z",
     "start_time": "2021-07-01T03:08:53.747834Z"
    }
   },
   "source": [
    "\n"
   ]
  },
  {
   "cell_type": "markdown",
   "metadata": {},
   "source": [
    "## Train the classifier and make predictions"
   ]
  },
  {
   "cell_type": "code",
   "execution_count": null,
   "metadata": {
    "ExecuteTime": {
     "end_time": "2021-07-02T12:29:01.475992Z",
     "start_time": "2021-07-02T12:29:01.460907Z"
    }
   },
   "outputs": [],
   "source": []
  },
  {
   "cell_type": "code",
   "execution_count": 81,
   "metadata": {
    "ExecuteTime": {
     "end_time": "2021-07-02T18:04:45.851286Z",
     "start_time": "2021-07-02T17:55:13.557576Z"
    }
   },
   "outputs": [
    {
     "name": "stdout",
     "output_type": "stream",
     "text": [
      "[13:55:36] WARNING: C:\\Users\\Administrator\\workspace\\xgboost-win64_release_1.2.0\\src\\learner.cc:516: \n",
      "Parameters: { early_stopping_rounds } might not be used.\n",
      "\n",
      "  This may not be accurate due to some parameters are only used in language bindings but\n",
      "  passed down to XGBoost core.  Or some parameters are not used but slip through this\n",
      "  verification. Please open an issue if you find above cases.\n",
      "\n",
      "\n"
     ]
    }
   ],
   "source": [
    "boost_clf2, y_pred_train2, y_pred_test2 = run_XGB(X_train_scaled, y_train, \n",
    "                                                  X_test_scaled,  y_test,\n",
    "                                      random_state=10,\n",
    "                                      min_child_weight=6,\n",
    "                                      max_depth=10,    learning_rate=0.1,\n",
    "                                      n_estimators=100, gamma=0,    \n",
    "                                      subsample=0.8,    colsample_bytree=0.8,\n",
    "                                      scale_pos_weight=4.1,\n",
    "                                      early_stopping_rounds=10,    \n",
    ")"
   ]
  },
  {
   "cell_type": "markdown",
   "metadata": {},
   "source": [
    "## Check predictive performance"
   ]
  },
  {
   "cell_type": "code",
   "execution_count": 82,
   "metadata": {
    "ExecuteTime": {
     "end_time": "2021-07-02T18:04:52.253051Z",
     "start_time": "2021-07-02T18:04:48.486092Z"
    }
   },
   "outputs": [
    {
     "name": "stdout",
     "output_type": "stream",
     "text": [
      "              precision    recall  f1-score   support\n",
      "\n",
      "           0       0.88      0.69      0.77   1249891\n",
      "           1       0.32      0.61      0.42    304973\n",
      "\n",
      "    accuracy                           0.67   1554864\n",
      "   macro avg       0.60      0.65      0.60   1554864\n",
      "weighted avg       0.77      0.67      0.70   1554864\n",
      "\n"
     ]
    }
   ],
   "source": [
    "#x Train and y train\n",
    "print(classification_report(y_train,y_pred_train2))"
   ]
  },
  {
   "cell_type": "code",
   "execution_count": 83,
   "metadata": {
    "ExecuteTime": {
     "end_time": "2021-07-02T18:04:55.236668Z",
     "start_time": "2021-07-02T18:04:54.364663Z"
    }
   },
   "outputs": [
    {
     "name": "stdout",
     "output_type": "stream",
     "text": [
      "              precision    recall  f1-score   support\n",
      "\n",
      "           0       0.87      0.68      0.76    312133\n",
      "           1       0.31      0.59      0.41     76583\n",
      "\n",
      "    accuracy                           0.66    388716\n",
      "   macro avg       0.59      0.64      0.59    388716\n",
      "weighted avg       0.76      0.66      0.69    388716\n",
      "\n"
     ]
    }
   ],
   "source": [
    "#x Test and y test\n",
    "print(classification_report(y_test,y_pred_test2))"
   ]
  },
  {
   "cell_type": "markdown",
   "metadata": {},
   "source": [
    "## Observation Between the Train and the Test accuracy we have <br>\n",
    "82% and F1 of 52% vs 81% and F1 of 52% "
   ]
  },
  {
   "cell_type": "code",
   "execution_count": 7,
   "metadata": {
    "ExecuteTime": {
     "end_time": "2021-07-07T17:41:59.397990Z",
     "start_time": "2021-07-07T17:41:59.112753Z"
    }
   },
   "outputs": [
    {
     "ename": "NameError",
     "evalue": "name 'boost_clf2' is not defined",
     "output_type": "error",
     "traceback": [
      "\u001b[1;31m---------------------------------------------------------------------------\u001b[0m",
      "\u001b[1;31mNameError\u001b[0m                                 Traceback (most recent call last)",
      "\u001b[1;32m<ipython-input-7-1933caaa9e83>\u001b[0m in \u001b[0;36m<module>\u001b[1;34m\u001b[0m\n\u001b[0;32m      1\u001b[0m \u001b[1;31m# Alternative confusion matrix\u001b[0m\u001b[1;33m\u001b[0m\u001b[1;33m\u001b[0m\u001b[1;33m\u001b[0m\u001b[0m\n\u001b[1;32m----> 2\u001b[1;33m \u001b[0mplot_confusion_matrix\u001b[0m\u001b[1;33m(\u001b[0m\u001b[0mboost_clf2\u001b[0m\u001b[1;33m,\u001b[0m \u001b[0mX\u001b[0m\u001b[1;33m,\u001b[0m \u001b[0my\u001b[0m \u001b[1;33m,\u001b[0m\u001b[0mvalues_format\u001b[0m\u001b[1;33m=\u001b[0m\u001b[1;34m'.3g'\u001b[0m\u001b[1;33m)\u001b[0m\u001b[1;33m\u001b[0m\u001b[1;33m\u001b[0m\u001b[0m\n\u001b[0m\u001b[0;32m      3\u001b[0m \u001b[0mplt\u001b[0m\u001b[1;33m.\u001b[0m\u001b[0mshow\u001b[0m\u001b[1;33m(\u001b[0m\u001b[1;33m)\u001b[0m\u001b[1;33m\u001b[0m\u001b[1;33m\u001b[0m\u001b[0m\n",
      "\u001b[1;31mNameError\u001b[0m: name 'boost_clf2' is not defined"
     ]
    }
   ],
   "source": [
    "# Alternative confusion matrix\n",
    "plot_confusion_matrix(boost_clf2, X, y ,values_format='.3g')\n",
    "plt.show()"
   ]
  },
  {
   "cell_type": "code",
   "execution_count": null,
   "metadata": {
    "ExecuteTime": {
     "end_time": "2021-07-01T23:05:20.520030Z",
     "start_time": "2021-07-01T23:05:20.506101Z"
    }
   },
   "outputs": [],
   "source": []
  },
  {
   "cell_type": "code",
   "execution_count": 76,
   "metadata": {
    "ExecuteTime": {
     "end_time": "2021-07-02T16:55:40.024844Z",
     "start_time": "2021-07-02T16:55:37.483650Z"
    }
   },
   "outputs": [
    {
     "data": {
      "image/png": "[encoded data removed]",
      "text/plain": [
       "<Figure size 576x1152 with 1 Axes>"
      ]
     },
     "metadata": {
      "needs_background": "light"
     },
     "output_type": "display_data"
    }
   ],
   "source": [
    "\n",
    "plot_feature_importances(X_train, boost_clf2)"
   ]
  },
  {
   "cell_type": "code",
   "execution_count": null,
   "metadata": {
    "ExecuteTime": {
     "end_time": "2021-07-02T12:29:01.892347Z",
     "start_time": "2021-07-02T12:28:45.494Z"
    }
   },
   "outputs": [],
   "source": [
    "print(boost_clf2.)"
   ]
  },
  {
   "cell_type": "code",
   "execution_count": 41,
   "metadata": {
    "ExecuteTime": {
     "end_time": "2021-07-02T15:24:41.693779Z",
     "start_time": "2021-07-02T15:24:41.678807Z"
    }
   },
   "outputs": [
    {
     "name": "stdout",
     "output_type": "stream",
     "text": [
      "<bound method XGBModel.get_xgb_params of XGBClassifier(base_score=0.5, booster='gbtree', colsample_bylevel=1,\n",
      "              colsample_bynode=1, colsample_bytree=0.8,\n",
      "              early_stopping_rounds=10, gamma=0, gpu_id=1,\n",
      "              importance_type='gain', interaction_constraints='',\n",
      "              learning_rate=0.1, max_delta_step=0, max_depth=10,\n",
      "              min_child_weight=5, missing=nan, monotone_constraints='()',\n",
      "              n_estimators=100, n_jobs=12, num_parallel_tree=1, random_state=10,\n",
      "              reg_alpha=0, reg_lambda=1, scale_pos_weight=1, subsample=0.8,\n",
      "              tree_method='exact', validate_parameters=1, verbosity=None)>\n"
     ]
    }
   ],
   "source": [
    "print(boost_clf2.get_xgb_params)"
   ]
  },
  {
   "cell_type": "markdown",
   "metadata": {},
   "source": [
    "# GridSearch 2 for optimal params"
   ]
  },
  {
   "cell_type": "code",
   "execution_count": null,
   "metadata": {},
   "outputs": [],
   "source": []
  },
  {
   "cell_type": "code",
   "execution_count": 42,
   "metadata": {
    "ExecuteTime": {
     "end_time": "2021-07-02T15:51:03.939325Z",
     "start_time": "2021-07-02T15:30:16.519292Z"
    },
    "scrolled": true
   },
   "outputs": [
    {
     "name": "stdout",
     "output_type": "stream",
     "text": [
      "[11:30:19] WARNING: C:\\Users\\Administrator\\workspace\\xgboost-win64_release_1.2.0\\src\\learner.cc:211: Only 1 GPUs are visible, setting `gpu_id` to 0\n",
      "[11:30:19] WARNING: C:\\Users\\Administrator\\workspace\\xgboost-win64_release_1.2.0\\src\\learner.cc:516: \n",
      "Parameters: { early_stopping_rounds } might not be used.\n",
      "\n",
      "  This may not be accurate due to some parameters are only used in language bindings but\n",
      "  passed down to XGBoost core.  Or some parameters are not used but slip through this\n",
      "  verification. Please open an issue if you find above cases.\n",
      "\n",
      "\n",
      "[11:34:34] WARNING: C:\\Users\\Administrator\\workspace\\xgboost-win64_release_1.2.0\\src\\learner.cc:211: Only 1 GPUs are visible, setting `gpu_id` to 0\n",
      "[11:34:34] WARNING: C:\\Users\\Administrator\\workspace\\xgboost-win64_release_1.2.0\\src\\learner.cc:516: \n",
      "Parameters: { early_stopping_rounds } might not be used.\n",
      "\n",
      "  This may not be accurate due to some parameters are only used in language bindings but\n",
      "  passed down to XGBoost core.  Or some parameters are not used but slip through this\n",
      "  verification. Please open an issue if you find above cases.\n",
      "\n",
      "\n",
      "[11:38:56] WARNING: C:\\Users\\Administrator\\workspace\\xgboost-win64_release_1.2.0\\src\\learner.cc:211: Only 1 GPUs are visible, setting `gpu_id` to 0\n",
      "[11:38:56] WARNING: C:\\Users\\Administrator\\workspace\\xgboost-win64_release_1.2.0\\src\\learner.cc:516: \n",
      "Parameters: { early_stopping_rounds } might not be used.\n",
      "\n",
      "  This may not be accurate due to some parameters are only used in language bindings but\n",
      "  passed down to XGBoost core.  Or some parameters are not used but slip through this\n",
      "  verification. Please open an issue if you find above cases.\n",
      "\n",
      "\n",
      "[11:43:49] WARNING: C:\\Users\\Administrator\\workspace\\xgboost-win64_release_1.2.0\\src\\learner.cc:211: Only 1 GPUs are visible, setting `gpu_id` to 0\n",
      "[11:43:49] WARNING: C:\\Users\\Administrator\\workspace\\xgboost-win64_release_1.2.0\\src\\learner.cc:516: \n",
      "Parameters: { early_stopping_rounds } might not be used.\n",
      "\n",
      "  This may not be accurate due to some parameters are only used in language bindings but\n",
      "  passed down to XGBoost core.  Or some parameters are not used but slip through this\n",
      "  verification. Please open an issue if you find above cases.\n",
      "\n",
      "\n"
     ]
    },
    {
     "data": {
      "text/plain": [
       "GridSearchCV(cv=3,\n",
       "             estimator=XGBClassifier(base_score=None, booster=None,\n",
       "                                     colsample_bylevel=None,\n",
       "                                     colsample_bynode=None,\n",
       "                                     colsample_bytree=None, gamma=None,\n",
       "                                     gpu_id=None, importance_type='gain',\n",
       "                                     interaction_constraints=None,\n",
       "                                     learning_rate=None, max_delta_step=None,\n",
       "                                     max_depth=None, min_child_weight=None,\n",
       "                                     missing=nan, monotone_constraints=None,\n",
       "                                     n_estimators=100, n_jobs...\n",
       "                                     tree_method=None, validate_parameters=None,\n",
       "                                     verbosity=None),\n",
       "             param_grid={'colsample_bytree': [0.8],\n",
       "                         'early_stopping_rounds': [10], 'gamma': [0],\n",
       "                         'gpu_id': [1], 'learning_rate': [0.1],\n",
       "                         'max_depth': [10], 'min_child_weight': [5],\n",
       "                         'n_estimators': [100], 'n_jobs': [12],\n",
       "                         'objective': ['binary:logistic'], 'random_state': [27],\n",
       "                         'scale_pos_weight': [1], 'subsample': [0.8]},\n",
       "             return_train_score=True)"
      ]
     },
     "execution_count": 42,
     "metadata": {},
     "output_type": "execute_result"
    }
   ],
   "source": [
    "clf = XGBClassifier()\n",
    "\n",
    "param_grid = {\n",
    "    'learning_rate': [0.1],\n",
    "    'n_estimators' : [100],\n",
    "    'max_depth': [10],\n",
    "    'min_child_weight' : [5],\n",
    "    'gamma': [0],\n",
    "    'subsample' :  [0.8],\n",
    "    'colsample_bytree' : [0.8],\n",
    "    'objective' :['binary:logistic'],\n",
    "    'scale_pos_weight' :[1],\n",
    "    'random_state' : [27],\n",
    "    'n_jobs' : [12],\n",
    "    'early_stopping_rounds' : [10],\n",
    "    'gpu_id' : [1]\n",
    "}\n",
    "\n",
    "gs_tree = GridSearchCV(clf, param_grid, cv=3,return_train_score=True)\n",
    "gs_tree.fit(X_train_scaled, y_train)\n",
    "\n"
   ]
  },
  {
   "cell_type": "code",
   "execution_count": 24,
   "metadata": {
    "ExecuteTime": {
     "end_time": "2021-07-02T14:44:39.960452Z",
     "start_time": "2021-07-02T14:44:39.943500Z"
    }
   },
   "outputs": [
    {
     "data": {
      "text/plain": [
       "(<function sklearn.metrics._scorer._passthrough_scorer(estimator, *args, **kwargs)>,\n",
       " {'colsample_bytree': 0.8,\n",
       "  'early_stopping_rounds': 10,\n",
       "  'gamma': 0,\n",
       "  'learning_rate': 0.1,\n",
       "  'max_depth': 10,\n",
       "  'min_child_weight': 5,\n",
       "  'n_estimators': 100,\n",
       "  'n_jobs': -1,\n",
       "  'objective': 'binary:logistic',\n",
       "  'random_state': 27,\n",
       "  'scale_pos_weight': 1,\n",
       "  'subsample': 0.8},\n",
       " 0.8139772996223463)"
      ]
     },
     "execution_count": 24,
     "metadata": {},
     "output_type": "execute_result"
    }
   ],
   "source": [
    "gs_tree.scorer_, gs_tree.best_params_, gs_tree.best_score_"
   ]
  },
  {
   "cell_type": "code",
   "execution_count": 25,
   "metadata": {
    "ExecuteTime": {
     "end_time": "2021-07-02T14:46:13.805690Z",
     "start_time": "2021-07-02T14:46:13.778762Z"
    }
   },
   "outputs": [
    {
     "data": {
      "text/plain": [
       "{'mean_fit_time': array([128.17369954, 128.67897948, 271.34017603, 245.56594141]),\n",
       " 'std_fit_time': array([ 2.37646103,  0.50275505, 14.46040803,  5.82778692]),\n",
       " 'mean_score_time': array([3.24069262, 3.44777815, 5.16003291, 5.11349257]),\n",
       " 'std_score_time': array([0.03590733, 0.27582735, 0.4436175 , 0.31495155]),\n",
       " 'param_colsample_bytree': masked_array(data=[0.8, 0.8, 0.8, 0.8],\n",
       "              mask=[False, False, False, False],\n",
       "        fill_value='?',\n",
       "             dtype=object),\n",
       " 'param_early_stopping_rounds': masked_array(data=[10, 10, 10, 10],\n",
       "              mask=[False, False, False, False],\n",
       "        fill_value='?',\n",
       "             dtype=object),\n",
       " 'param_gamma': masked_array(data=[0, 0, 0, 0],\n",
       "              mask=[False, False, False, False],\n",
       "        fill_value='?',\n",
       "             dtype=object),\n",
       " 'param_learning_rate': masked_array(data=[0.1, 0.1, 0.1, 0.1],\n",
       "              mask=[False, False, False, False],\n",
       "        fill_value='?',\n",
       "             dtype=object),\n",
       " 'param_max_depth': masked_array(data=[5, 5, 10, 10],\n",
       "              mask=[False, False, False, False],\n",
       "        fill_value='?',\n",
       "             dtype=object),\n",
       " 'param_min_child_weight': masked_array(data=[5, 10, 5, 10],\n",
       "              mask=[False, False, False, False],\n",
       "        fill_value='?',\n",
       "             dtype=object),\n",
       " 'param_n_estimators': masked_array(data=[100, 100, 100, 100],\n",
       "              mask=[False, False, False, False],\n",
       "        fill_value='?',\n",
       "             dtype=object),\n",
       " 'param_n_jobs': masked_array(data=[-1, -1, -1, -1],\n",
       "              mask=[False, False, False, False],\n",
       "        fill_value='?',\n",
       "             dtype=object),\n",
       " 'param_objective': masked_array(data=['binary:logistic', 'binary:logistic',\n",
       "                    'binary:logistic', 'binary:logistic'],\n",
       "              mask=[False, False, False, False],\n",
       "        fill_value='?',\n",
       "             dtype=object),\n",
       " 'param_random_state': masked_array(data=[27, 27, 27, 27],\n",
       "              mask=[False, False, False, False],\n",
       "        fill_value='?',\n",
       "             dtype=object),\n",
       " 'param_scale_pos_weight': masked_array(data=[1, 1, 1, 1],\n",
       "              mask=[False, False, False, False],\n",
       "        fill_value='?',\n",
       "             dtype=object),\n",
       " 'param_subsample': masked_array(data=[0.8, 0.8, 0.8, 0.8],\n",
       "              mask=[False, False, False, False],\n",
       "        fill_value='?',\n",
       "             dtype=object),\n",
       " 'params': [{'colsample_bytree': 0.8,\n",
       "   'early_stopping_rounds': 10,\n",
       "   'gamma': 0,\n",
       "   'learning_rate': 0.1,\n",
       "   'max_depth': 5,\n",
       "   'min_child_weight': 5,\n",
       "   'n_estimators': 100,\n",
       "   'n_jobs': -1,\n",
       "   'objective': 'binary:logistic',\n",
       "   'random_state': 27,\n",
       "   'scale_pos_weight': 1,\n",
       "   'subsample': 0.8},\n",
       "  {'colsample_bytree': 0.8,\n",
       "   'early_stopping_rounds': 10,\n",
       "   'gamma': 0,\n",
       "   'learning_rate': 0.1,\n",
       "   'max_depth': 5,\n",
       "   'min_child_weight': 10,\n",
       "   'n_estimators': 100,\n",
       "   'n_jobs': -1,\n",
       "   'objective': 'binary:logistic',\n",
       "   'random_state': 27,\n",
       "   'scale_pos_weight': 1,\n",
       "   'subsample': 0.8},\n",
       "  {'colsample_bytree': 0.8,\n",
       "   'early_stopping_rounds': 10,\n",
       "   'gamma': 0,\n",
       "   'learning_rate': 0.1,\n",
       "   'max_depth': 10,\n",
       "   'min_child_weight': 5,\n",
       "   'n_estimators': 100,\n",
       "   'n_jobs': -1,\n",
       "   'objective': 'binary:logistic',\n",
       "   'random_state': 27,\n",
       "   'scale_pos_weight': 1,\n",
       "   'subsample': 0.8},\n",
       "  {'colsample_bytree': 0.8,\n",
       "   'early_stopping_rounds': 10,\n",
       "   'gamma': 0,\n",
       "   'learning_rate': 0.1,\n",
       "   'max_depth': 10,\n",
       "   'min_child_weight': 10,\n",
       "   'n_estimators': 100,\n",
       "   'n_jobs': -1,\n",
       "   'objective': 'binary:logistic',\n",
       "   'random_state': 27,\n",
       "   'scale_pos_weight': 1,\n",
       "   'subsample': 0.8}],\n",
       " 'split0_test_score': array([0.80800443, 0.80817615, 0.81417089, 0.81398952]),\n",
       " 'split1_test_score': array([0.80778255, 0.80794848, 0.81380236, 0.81363257]),\n",
       " 'split2_test_score': array([0.80791761, 0.80825526, 0.81395865, 0.81382166]),\n",
       " 'mean_test_score': array([0.80790153, 0.80812663, 0.8139773 , 0.81381458]),\n",
       " 'std_test_score': array([9.12946056e-05, 1.30045373e-04, 1.51025001e-04, 1.45807781e-04]),\n",
       " 'rank_test_score': array([4, 3, 1, 2]),\n",
       " 'split0_train_score': array([0.80815975, 0.8084125 , 0.81585528, 0.81530539]),\n",
       " 'split1_train_score': array([0.8081501 , 0.80839321, 0.81604629, 0.81542309]),\n",
       " 'split2_train_score': array([0.80797356, 0.80814721, 0.81567777, 0.81516358]),\n",
       " 'mean_train_score': array([0.80809447, 0.80831764, 0.81585978, 0.81529735]),\n",
       " 'std_train_score': array([8.55875789e-05, 1.20771411e-04, 1.50481734e-04, 1.06096191e-04])}"
      ]
     },
     "execution_count": 25,
     "metadata": {},
     "output_type": "execute_result"
    }
   ],
   "source": [
    "gs_tree.cv_results_"
   ]
  },
  {
   "cell_type": "code",
   "execution_count": 29,
   "metadata": {
    "ExecuteTime": {
     "end_time": "2021-07-02T14:54:12.633191Z",
     "start_time": "2021-07-02T14:54:12.621223Z"
    }
   },
   "outputs": [
    {
     "name": "stdout",
     "output_type": "stream",
     "text": [
      "Mean Training Score: 81.19%\n"
     ]
    }
   ],
   "source": [
    "# Mean training score\n",
    "dt_gs_training_score = np.mean(gs_tree.cv_results_['mean_train_score'])\n",
    "\n",
    "# Mean test score\n",
    "#dt_gs_testing_score = gs_tree.score(X_test, y_test)\n",
    "\n",
    "print(f\"Mean Training Score: {dt_gs_training_score :.2%}\")\n",
    "#print(f\"Mean Test Score: {dt_gs_testing_score :.2%}\")"
   ]
  },
  {
   "cell_type": "markdown",
   "metadata": {},
   "source": [
    "Observation {'class_weight': 'balanced',\n",
    " 'criterion': 'gini',\n",
    " 'max_depth': 30,\n",
    " 'min_samples_leaf': 50,\n",
    " 'min_samples_split': 200}  \n",
    "Mean Training Score: 64.44%\n",
    "Mean Test Score: 19.70%"
   ]
  },
  {
   "cell_type": "code",
   "execution_count": null,
   "metadata": {},
   "outputs": [],
   "source": []
  },
  {
   "cell_type": "markdown",
   "metadata": {},
   "source": [
    "# GridSearch 3 for optimal params"
   ]
  },
  {
   "cell_type": "code",
   "execution_count": null,
   "metadata": {
    "ExecuteTime": {
     "end_time": "2021-07-02T08:26:32.900082Z",
     "start_time": "2021-07-02T08:24:04.130090Z"
    }
   },
   "outputs": [],
   "source": [
    "clf = DecisionTreeClassifier()\n",
    "\n",
    "param_grid = {\n",
    "    'criterion': ['gini'],\n",
    "    'max_depth': [10],\n",
    "    'min_samples_leaf': [16, 17],\n",
    "    'min_samples_split': [50],\n",
    "    'class_weight' : ['balanced']\n",
    "}\n",
    "\n",
    "gs_tree3 = GridSearchCV(clf, param_grid, cv=3,return_train_score=True)\n",
    "gs_tree3.fit(X_train_scaled, y_train)\n",
    "\n",
    "gs_tree3.best_params_"
   ]
  },
  {
   "cell_type": "code",
   "execution_count": null,
   "metadata": {},
   "outputs": [],
   "source": [
    "Observation  FINAL{'class_weight': 'balanced',\n",
    " 'criterion': 'gini',\n",
    " 'max_depth': 10,\n",
    " 'min_samples_leaf': 16,\n",
    " 'min_samples_split': 50}"
   ]
  },
  {
   "cell_type": "code",
   "execution_count": null,
   "metadata": {},
   "outputs": [],
   "source": [
    "Observation{'class_weight': 'balanced',\n",
    " 'criterion': 'gini',\n",
    " 'max_depth': 10,\n",
    " 'min_samples_leaf': 16,\n",
    " 'min_samples_split': 50}"
   ]
  },
  {
   "cell_type": "markdown",
   "metadata": {},
   "source": [
    "Observation {'class_weight': 'balanced',\n",
    " 'criterion': 'gini',\n",
    " 'max_depth': 10,\n",
    " 'min_samples_leaf': 14,\n",
    " 'min_samples_split': 50}"
   ]
  },
  {
   "cell_type": "code",
   "execution_count": null,
   "metadata": {},
   "outputs": [],
   "source": [
    "Observation {'class_weight': 'balanced',\n",
    " 'criterion': 'gini',\n",
    " 'max_depth': 10,\n",
    " 'min_samples_leaf': 15,\n",
    " 'min_samples_split': 50}"
   ]
  },
  {
   "cell_type": "code",
   "execution_count": null,
   "metadata": {
    "ExecuteTime": {
     "end_time": "2021-07-02T08:27:21.699524Z",
     "start_time": "2021-07-02T08:27:21.686577Z"
    }
   },
   "outputs": [],
   "source": [
    "gs_tree3.cv_results_"
   ]
  },
  {
   "cell_type": "code",
   "execution_count": null,
   "metadata": {
    "ExecuteTime": {
     "end_time": "2021-07-02T08:28:46.761755Z",
     "start_time": "2021-07-02T08:28:46.618191Z"
    }
   },
   "outputs": [],
   "source": [
    "# Mean training score\n",
    "dt_gs_training_score = np.mean(gs_tree3.cv_results_['mean_train_score'])\n",
    "\n",
    "# Mean test score\n",
    "dt_gs_testing_score = gs_tree3.score(X_test, y_test)\n",
    "\n",
    "print(f\"Mean Training Score: {dt_gs_training_score :.2%}\")\n",
    "print(f\"Mean Test Score: {dt_gs_testing_score :.2%}\")"
   ]
  },
  {
   "cell_type": "code",
   "execution_count": null,
   "metadata": {},
   "outputs": [],
   "source": []
  },
  {
   "cell_type": "code",
   "execution_count": null,
   "metadata": {},
   "outputs": [],
   "source": []
  },
  {
   "cell_type": "code",
   "execution_count": null,
   "metadata": {},
   "outputs": [],
   "source": []
  },
  {
   "cell_type": "code",
   "execution_count": null,
   "metadata": {},
   "outputs": [],
   "source": []
  },
  {
   "cell_type": "code",
   "execution_count": null,
   "metadata": {},
   "outputs": [],
   "source": []
  },
  {
   "cell_type": "code",
   "execution_count": null,
   "metadata": {},
   "outputs": [],
   "source": []
  },
  {
   "cell_type": "code",
   "execution_count": null,
   "metadata": {},
   "outputs": [],
   "source": []
  },
  {
   "cell_type": "code",
   "execution_count": null,
   "metadata": {},
   "outputs": [],
   "source": []
  },
  {
   "cell_type": "code",
   "execution_count": null,
   "metadata": {},
   "outputs": [],
   "source": []
  },
  {
   "cell_type": "code",
   "execution_count": null,
   "metadata": {},
   "outputs": [],
   "source": []
  },
  {
   "cell_type": "markdown",
   "metadata": {
    "ExecuteTime": {
     "end_time": "2021-07-01T01:31:49.413475Z",
     "start_time": "2021-07-01T01:31:49.408487Z"
    }
   },
   "source": [
    "## Train the classifier and make predictions"
   ]
  },
  {
   "cell_type": "code",
   "execution_count": null,
   "metadata": {},
   "outputs": [],
   "source": []
  },
  {
   "cell_type": "code",
   "execution_count": null,
   "metadata": {
    "ExecuteTime": {
     "end_time": "2021-07-02T08:08:08.101596Z",
     "start_time": "2021-07-02T08:08:08.093618Z"
    },
    "scrolled": true
   },
   "outputs": [],
   "source": [
    "\n"
   ]
  },
  {
   "cell_type": "code",
   "execution_count": null,
   "metadata": {
    "ExecuteTime": {
     "end_time": "2021-07-02T08:31:17.195560Z",
     "start_time": "2021-07-02T08:30:11.971317Z"
    }
   },
   "outputs": [],
   "source": []
  },
  {
   "cell_type": "code",
   "execution_count": null,
   "metadata": {},
   "outputs": [],
   "source": []
  }
 ],
 "metadata": {
  "kernelspec": {
   "display_name": "learn-env",
   "language": "python",
   "name": "learn-env"
  },
  "language_info": {
   "codemirror_mode": {
    "name": "ipython",
    "version": 3
   },
   "file_extension": ".py",
   "mimetype": "text/x-python",
   "name": "python",
   "nbconvert_exporter": "python",
   "pygments_lexer": "ipython3",
   "version": "3.8.5"
  },
  "toc": {
   "base_numbering": 1,
   "nav_menu": {},
   "number_sections": true,
   "sideBar": true,
   "skip_h1_title": false,
   "title_cell": "Table of Contents",
   "title_sidebar": "Contents",
   "toc_cell": false,
   "toc_position": {},
   "toc_section_display": true,
   "toc_window_display": true
  },
  "varInspector": {
   "cols": {
    "lenName": 16,
    "lenType": 16,
    "lenVar": 40
   },
   "kernels_config": {
    "python": {
     "delete_cmd_postfix": "",
     "delete_cmd_prefix": "del ",
     "library": "var_list.py",
     "varRefreshCmd": "print(var_dic_list())"
    },
    "r": {
     "delete_cmd_postfix": ") ",
     "delete_cmd_prefix": "rm(",
     "library": "var_list.r",
     "varRefreshCmd": "cat(var_dic_list()) "
    }
   },
   "types_to_exclude": [
    "module",
    "function",
    "builtin_function_or_method",
    "instance",
    "_Feature"
   ],
   "window_display": false
  }
 },
 "nbformat": 4,
 "nbformat_minor": 4
}
